{
 "cells": [
  {
   "cell_type": "code",
   "execution_count": 1,
   "metadata": {},
   "outputs": [
    {
     "name": "stderr",
     "output_type": "stream",
     "text": [
      "Using TensorFlow backend.\n"
     ]
    }
   ],
   "source": [
    "# %load_ext autoreload\n",
    "%reload_ext autoreload\n",
    "%autoreload 2\n",
    "%matplotlib inline\n",
    "\n",
    "import os\n",
    "import sys\n",
    "import time\n",
    "import pdb\n",
    "import numpy as np\n",
    "import pandas as pd\n",
    "import matplotlib.pyplot as plt\n",
    "import seaborn as sns\n",
    "\n",
    "import networkx as nx\n",
    "\n",
    "from sklearn.preprocessing import LabelEncoder, StandardScaler\n",
    "from sklearn.metrics import f1_score, accuracy_score\n",
    "from sklearn.ensemble import RandomForestClassifier, ExtraTreesClassifier\n",
    "from sklearn.model_selection import train_test_split\n",
    "\n",
    "# Clustering\n",
    "from sklearn.datasets import make_biclusters, make_checkerboard, make_classification\n",
    "from sklearn.datasets import samples_generator as sg\n",
    "from sklearn.cluster.bicluster import SpectralCoclustering, SpectralBiclustering\n",
    "from sklearn.metrics import consensus_score\n",
    "\n",
    "# Corr\n",
    "from scipy.stats import spearmanr, pearsonr\n",
    "from numpy import corrcoef\n",
    "\n",
    "# Utils\n",
    "file_path = os.getcwd()  # os.path.dirname(os.path.relpath(__file__))\n",
    "utils_path = os.path.abspath(os.path.join(file_path, '..', '..', 'utils_py'))\n",
    "sys.path.append(utils_path)\n",
    "import utils_all as utils\n",
    "\n",
    "# Feature importance\n",
    "pfi_path = os.path.abspath(os.path.join(file_path, '..', 'pfi'))\n",
    "sys.path.append(pfi_path)\n",
    "import pfi\n",
    "import pfi_utils\n",
    "\n",
    "import warnings\n",
    "warnings.filterwarnings('ignore')\n",
    "\n",
    "SEED=0"
   ]
  },
  {
   "cell_type": "code",
   "execution_count": 2,
   "metadata": {},
   "outputs": [
    {
     "name": "stdout",
     "output_type": "stream",
     "text": [
      "/vol/ml/apartin/projects/feature-importance/apps/data\n"
     ]
    }
   ],
   "source": [
    "OUTDIR = os.path.join(file_path, 'data')\n",
    "print(OUTDIR)"
   ]
  },
  {
   "cell_type": "code",
   "execution_count": 3,
   "metadata": {},
   "outputs": [
    {
     "name": "stdout",
     "output_type": "stream",
     "text": [
      "(1428, 60484)\n"
     ]
    }
   ],
   "source": [
    "DATAPATH = '/vol/ml/apartin/Benchmarks/Data/Pilot1/'\n",
    "FILENAME = 'matched_normal_samples.FPKM-UQ.csv'\n",
    "nt_org = pd.read_csv(os.path.join(DATAPATH, FILENAME), sep=',')\n",
    "print(nt_org.shape)\n",
    "\n",
    "# data_val_org = pd.read_csv(os.path.join(datapath, 'P1B1.dev.test.csv'), sep=',')\n",
    "# print(data_val_org.shape)"
   ]
  },
  {
   "cell_type": "code",
   "execution_count": 16,
   "metadata": {},
   "outputs": [
    {
     "name": "stdout",
     "output_type": "stream",
     "text": [
      "(726, 7)\n"
     ]
    },
    {
     "data": {
      "text/html": [
       "<div>\n",
       "<style scoped>\n",
       "    .dataframe tbody tr th:only-of-type {\n",
       "        vertical-align: middle;\n",
       "    }\n",
       "\n",
       "    .dataframe tbody tr th {\n",
       "        vertical-align: top;\n",
       "    }\n",
       "\n",
       "    .dataframe thead th {\n",
       "        text-align: right;\n",
       "    }\n",
       "</style>\n",
       "<table border=\"1\" class=\"dataframe\">\n",
       "  <thead>\n",
       "    <tr style=\"text-align: right;\">\n",
       "      <th></th>\n",
       "      <th>0</th>\n",
       "      <th>1</th>\n",
       "      <th>2</th>\n",
       "      <th>3</th>\n",
       "      <th>4</th>\n",
       "      <th>5</th>\n",
       "      <th>6</th>\n",
       "    </tr>\n",
       "  </thead>\n",
       "  <tbody>\n",
       "    <tr>\n",
       "      <th>0</th>\n",
       "      <td>aeec3005-25d7-45fc-a9ff-014d57960216</td>\n",
       "      <td>Prostate</td>\n",
       "      <td>Prostate Adenocarcinoma</td>\n",
       "      <td>Solid Tissue Normal</td>\n",
       "      <td>76a194e5-ba36-4e81-b0b4-6c22a69fe9b5.FPKM-UQ.txt</td>\n",
       "      <td>Primary Tumor</td>\n",
       "      <td>26b9d14a-da14-4062-8494-fb87b04e9d7b.FPKM-UQ.txt</td>\n",
       "    </tr>\n",
       "    <tr>\n",
       "      <th>1</th>\n",
       "      <td>c8fb94dd-c535-48f4-9419-aac2bf47bbb4</td>\n",
       "      <td>Uterus</td>\n",
       "      <td>Uterine Corpus Endometrial Carcinoma</td>\n",
       "      <td>Solid Tissue Normal</td>\n",
       "      <td>e8caa240-51e5-41c2-8340-32613692be11.FPKM-UQ.txt</td>\n",
       "      <td>Primary Tumor</td>\n",
       "      <td>788465ed-def3-4d72-ac49-6d2f0c19759e.FPKM-UQ.txt</td>\n",
       "    </tr>\n",
       "    <tr>\n",
       "      <th>2</th>\n",
       "      <td>de206681-3e27-4d4f-8669-aefb12b5b1e3</td>\n",
       "      <td>Head and Neck</td>\n",
       "      <td>Head and Neck Squamous Cell Carcinoma</td>\n",
       "      <td>Solid Tissue Normal</td>\n",
       "      <td>5e79c5a9-5341-44e1-95fb-392020416b0c.FPKM-UQ.txt</td>\n",
       "      <td>Primary Tumor</td>\n",
       "      <td>eaf69a94-f9b7-4177-b5eb-aa16cf102b96.FPKM-UQ.txt</td>\n",
       "    </tr>\n",
       "  </tbody>\n",
       "</table>\n",
       "</div>"
      ],
      "text/plain": [
       "                                      0              1  \\\n",
       "0  aeec3005-25d7-45fc-a9ff-014d57960216       Prostate   \n",
       "1  c8fb94dd-c535-48f4-9419-aac2bf47bbb4         Uterus   \n",
       "2  de206681-3e27-4d4f-8669-aefb12b5b1e3  Head and Neck   \n",
       "\n",
       "                                       2                    3  \\\n",
       "0                Prostate Adenocarcinoma  Solid Tissue Normal   \n",
       "1   Uterine Corpus Endometrial Carcinoma  Solid Tissue Normal   \n",
       "2  Head and Neck Squamous Cell Carcinoma  Solid Tissue Normal   \n",
       "\n",
       "                                                  4              5  \\\n",
       "0  76a194e5-ba36-4e81-b0b4-6c22a69fe9b5.FPKM-UQ.txt  Primary Tumor   \n",
       "1  e8caa240-51e5-41c2-8340-32613692be11.FPKM-UQ.txt  Primary Tumor   \n",
       "2  5e79c5a9-5341-44e1-95fb-392020416b0c.FPKM-UQ.txt  Primary Tumor   \n",
       "\n",
       "                                                  6  \n",
       "0  26b9d14a-da14-4062-8494-fb87b04e9d7b.FPKM-UQ.txt  \n",
       "1  788465ed-def3-4d72-ac49-6d2f0c19759e.FPKM-UQ.txt  \n",
       "2  eaf69a94-f9b7-4177-b5eb-aa16cf102b96.FPKM-UQ.txt  "
      ]
     },
     "execution_count": 16,
     "metadata": {},
     "output_type": "execute_result"
    }
   ],
   "source": [
    "NT_METAFILE = 'matched_normal_samples.metadata.tsv'\n",
    "nt_meta = pd.read_csv(os.path.join(DATAPATH, NT_METAFILE), sep='\\t', header=None)\n",
    "print(nt_meta.shape)\n",
    "nt_meta[:3]"
   ]
  },
  {
   "cell_type": "code",
   "execution_count": 17,
   "metadata": {},
   "outputs": [],
   "source": [
    "nt_meta = nt_meta.rename(columns={1: 'origin', 2: 'ctype'})\n",
    "# nt_meta = nt_meta.rename(columns={0: 'Sample', 1: 'origin', 2: 'ctype'})"
   ]
  },
  {
   "cell_type": "code",
   "execution_count": 18,
   "metadata": {},
   "outputs": [
    {
     "data": {
      "text/html": [
       "<div>\n",
       "<style scoped>\n",
       "    .dataframe tbody tr th:only-of-type {\n",
       "        vertical-align: middle;\n",
       "    }\n",
       "\n",
       "    .dataframe tbody tr th {\n",
       "        vertical-align: top;\n",
       "    }\n",
       "\n",
       "    .dataframe thead th {\n",
       "        text-align: right;\n",
       "    }\n",
       "</style>\n",
       "<table border=\"1\" class=\"dataframe\">\n",
       "  <thead>\n",
       "    <tr style=\"text-align: right;\">\n",
       "      <th></th>\n",
       "      <th>0</th>\n",
       "      <th>origin</th>\n",
       "      <th>ctype</th>\n",
       "      <th>3</th>\n",
       "      <th>4</th>\n",
       "      <th>5</th>\n",
       "      <th>6</th>\n",
       "    </tr>\n",
       "  </thead>\n",
       "  <tbody>\n",
       "    <tr>\n",
       "      <th>0</th>\n",
       "      <td>aeec3005-25d7-45fc-a9ff-014d57960216</td>\n",
       "      <td>Prostate</td>\n",
       "      <td>Prostate Adenocarcinoma</td>\n",
       "      <td>Solid Tissue Normal</td>\n",
       "      <td>76a194e5-ba36-4e81-b0b4-6c22a69fe9b5.FPKM-UQ.txt</td>\n",
       "      <td>Primary Tumor</td>\n",
       "      <td>26b9d14a-da14-4062-8494-fb87b04e9d7b.FPKM-UQ.txt</td>\n",
       "    </tr>\n",
       "    <tr>\n",
       "      <th>1</th>\n",
       "      <td>c8fb94dd-c535-48f4-9419-aac2bf47bbb4</td>\n",
       "      <td>Uterus</td>\n",
       "      <td>Uterine Corpus Endometrial Carcinoma</td>\n",
       "      <td>Solid Tissue Normal</td>\n",
       "      <td>e8caa240-51e5-41c2-8340-32613692be11.FPKM-UQ.txt</td>\n",
       "      <td>Primary Tumor</td>\n",
       "      <td>788465ed-def3-4d72-ac49-6d2f0c19759e.FPKM-UQ.txt</td>\n",
       "    </tr>\n",
       "  </tbody>\n",
       "</table>\n",
       "</div>"
      ],
      "text/plain": [
       "                                      0    origin  \\\n",
       "0  aeec3005-25d7-45fc-a9ff-014d57960216  Prostate   \n",
       "1  c8fb94dd-c535-48f4-9419-aac2bf47bbb4    Uterus   \n",
       "\n",
       "                                  ctype                    3  \\\n",
       "0               Prostate Adenocarcinoma  Solid Tissue Normal   \n",
       "1  Uterine Corpus Endometrial Carcinoma  Solid Tissue Normal   \n",
       "\n",
       "                                                  4              5  \\\n",
       "0  76a194e5-ba36-4e81-b0b4-6c22a69fe9b5.FPKM-UQ.txt  Primary Tumor   \n",
       "1  e8caa240-51e5-41c2-8340-32613692be11.FPKM-UQ.txt  Primary Tumor   \n",
       "\n",
       "                                                  6  \n",
       "0  26b9d14a-da14-4062-8494-fb87b04e9d7b.FPKM-UQ.txt  \n",
       "1  788465ed-def3-4d72-ac49-6d2f0c19759e.FPKM-UQ.txt  "
      ]
     },
     "execution_count": 18,
     "metadata": {},
     "output_type": "execute_result"
    }
   ],
   "source": [
    "nt_meta[:2]"
   ]
  },
  {
   "cell_type": "code",
   "execution_count": 19,
   "metadata": {},
   "outputs": [
    {
     "data": {
      "text/html": [
       "<div>\n",
       "<style scoped>\n",
       "    .dataframe tbody tr th:only-of-type {\n",
       "        vertical-align: middle;\n",
       "    }\n",
       "\n",
       "    .dataframe tbody tr th {\n",
       "        vertical-align: top;\n",
       "    }\n",
       "\n",
       "    .dataframe thead th {\n",
       "        text-align: right;\n",
       "    }\n",
       "</style>\n",
       "<table border=\"1\" class=\"dataframe\">\n",
       "  <thead>\n",
       "    <tr style=\"text-align: right;\">\n",
       "      <th></th>\n",
       "      <th>Sample</th>\n",
       "      <th>ENSG00000000003.13</th>\n",
       "      <th>ENSG00000000005.5</th>\n",
       "      <th>ENSG00000000419.11</th>\n",
       "      <th>ENSG00000000457.12</th>\n",
       "      <th>ENSG00000000460.15</th>\n",
       "      <th>ENSG00000000938.11</th>\n",
       "      <th>ENSG00000000971.14</th>\n",
       "      <th>ENSG00000001036.12</th>\n",
       "      <th>ENSG00000001084.9</th>\n",
       "      <th>...</th>\n",
       "      <th>ENSGR0000263980.4</th>\n",
       "      <th>ENSGR0000264510.4</th>\n",
       "      <th>ENSGR0000264819.4</th>\n",
       "      <th>ENSGR0000265658.4</th>\n",
       "      <th>ENSGR0000270726.4</th>\n",
       "      <th>ENSGR0000275287.3</th>\n",
       "      <th>ENSGR0000276543.3</th>\n",
       "      <th>ENSGR0000277120.3</th>\n",
       "      <th>ENSGR0000280767.1</th>\n",
       "      <th>ENSGR0000281849.1</th>\n",
       "    </tr>\n",
       "  </thead>\n",
       "  <tbody>\n",
       "    <tr>\n",
       "      <th>0</th>\n",
       "      <td>00511204-3512-4a5e-b664-60271e968903</td>\n",
       "      <td>406251.224803</td>\n",
       "      <td>298928.274199</td>\n",
       "      <td>727338.848986</td>\n",
       "      <td>68471.247940</td>\n",
       "      <td>16816.622522</td>\n",
       "      <td>80082.645290</td>\n",
       "      <td>438199.589403</td>\n",
       "      <td>629152.411235</td>\n",
       "      <td>524231.496729</td>\n",
       "      <td>...</td>\n",
       "      <td>0.0</td>\n",
       "      <td>0.0</td>\n",
       "      <td>0.0</td>\n",
       "      <td>0.0</td>\n",
       "      <td>0.0</td>\n",
       "      <td>0.0</td>\n",
       "      <td>0.0</td>\n",
       "      <td>0.0</td>\n",
       "      <td>0.0</td>\n",
       "      <td>0.0</td>\n",
       "    </tr>\n",
       "    <tr>\n",
       "      <th>1</th>\n",
       "      <td>011ee3e1-37bd-47c1-9092-a24dffd3d5f5</td>\n",
       "      <td>832125.341022</td>\n",
       "      <td>26835.365035</td>\n",
       "      <td>497535.852837</td>\n",
       "      <td>62538.020368</td>\n",
       "      <td>9615.885044</td>\n",
       "      <td>51523.282898</td>\n",
       "      <td>98399.389116</td>\n",
       "      <td>575054.212119</td>\n",
       "      <td>49998.117980</td>\n",
       "      <td>...</td>\n",
       "      <td>0.0</td>\n",
       "      <td>0.0</td>\n",
       "      <td>0.0</td>\n",
       "      <td>0.0</td>\n",
       "      <td>0.0</td>\n",
       "      <td>0.0</td>\n",
       "      <td>0.0</td>\n",
       "      <td>0.0</td>\n",
       "      <td>0.0</td>\n",
       "      <td>0.0</td>\n",
       "    </tr>\n",
       "  </tbody>\n",
       "</table>\n",
       "<p>2 rows × 60484 columns</p>\n",
       "</div>"
      ],
      "text/plain": [
       "                                 Sample  ENSG00000000003.13  \\\n",
       "0  00511204-3512-4a5e-b664-60271e968903       406251.224803   \n",
       "1  011ee3e1-37bd-47c1-9092-a24dffd3d5f5       832125.341022   \n",
       "\n",
       "   ENSG00000000005.5  ENSG00000000419.11  ENSG00000000457.12  \\\n",
       "0      298928.274199       727338.848986        68471.247940   \n",
       "1       26835.365035       497535.852837        62538.020368   \n",
       "\n",
       "   ENSG00000000460.15  ENSG00000000938.11  ENSG00000000971.14  \\\n",
       "0        16816.622522        80082.645290       438199.589403   \n",
       "1         9615.885044        51523.282898        98399.389116   \n",
       "\n",
       "   ENSG00000001036.12  ENSG00000001084.9        ...          \\\n",
       "0       629152.411235      524231.496729        ...           \n",
       "1       575054.212119       49998.117980        ...           \n",
       "\n",
       "   ENSGR0000263980.4  ENSGR0000264510.4  ENSGR0000264819.4  ENSGR0000265658.4  \\\n",
       "0                0.0                0.0                0.0                0.0   \n",
       "1                0.0                0.0                0.0                0.0   \n",
       "\n",
       "   ENSGR0000270726.4  ENSGR0000275287.3  ENSGR0000276543.3  ENSGR0000277120.3  \\\n",
       "0                0.0                0.0                0.0                0.0   \n",
       "1                0.0                0.0                0.0                0.0   \n",
       "\n",
       "   ENSGR0000280767.1  ENSGR0000281849.1  \n",
       "0                0.0                0.0  \n",
       "1                0.0                0.0  \n",
       "\n",
       "[2 rows x 60484 columns]"
      ]
     },
     "execution_count": 19,
     "metadata": {},
     "output_type": "execute_result"
    }
   ],
   "source": [
    "nt_org[:2]"
   ]
  },
  {
   "cell_type": "code",
   "execution_count": 23,
   "metadata": {},
   "outputs": [
    {
     "data": {
      "text/plain": [
       "'76a194e5-ba36-4e81-b0b4-6c22a69fe9b5.FPKM-UQ.txt'"
      ]
     },
     "execution_count": 23,
     "metadata": {},
     "output_type": "execute_result"
    }
   ],
   "source": [
    "nt_meta[4][0]"
   ]
  },
  {
   "cell_type": "code",
   "execution_count": 15,
   "metadata": {},
   "outputs": [
    {
     "data": {
      "text/plain": [
       "False"
      ]
     },
     "execution_count": 15,
     "metadata": {},
     "output_type": "execute_result"
    }
   ],
   "source": [
    "any(nt_org['Sample'] == nt_meta[0][0])"
   ]
  },
  {
   "cell_type": "code",
   "execution_count": null,
   "metadata": {},
   "outputs": [],
   "source": []
  },
  {
   "cell_type": "code",
   "execution_count": 46,
   "metadata": {},
   "outputs": [
    {
     "data": {
      "text/plain": [
       "set()"
      ]
     },
     "execution_count": 46,
     "metadata": {},
     "output_type": "execute_result"
    }
   ],
   "source": [
    "set(nt_meta['Sample']).intersection(nt_org['Sample'])"
   ]
  },
  {
   "cell_type": "code",
   "execution_count": 37,
   "metadata": {},
   "outputs": [
    {
     "data": {
      "text/html": [
       "<div>\n",
       "<style scoped>\n",
       "    .dataframe tbody tr th:only-of-type {\n",
       "        vertical-align: middle;\n",
       "    }\n",
       "\n",
       "    .dataframe tbody tr th {\n",
       "        vertical-align: top;\n",
       "    }\n",
       "\n",
       "    .dataframe thead th {\n",
       "        text-align: right;\n",
       "    }\n",
       "</style>\n",
       "<table border=\"1\" class=\"dataframe\">\n",
       "  <thead>\n",
       "    <tr style=\"text-align: right;\">\n",
       "      <th></th>\n",
       "      <th>Sample</th>\n",
       "      <th>ENSG00000000003.13</th>\n",
       "      <th>ENSG00000000005.5</th>\n",
       "      <th>ENSG00000000419.11</th>\n",
       "      <th>ENSG00000000457.12</th>\n",
       "      <th>ENSG00000000460.15</th>\n",
       "      <th>ENSG00000000938.11</th>\n",
       "      <th>ENSG00000000971.14</th>\n",
       "      <th>ENSG00000001036.12</th>\n",
       "      <th>ENSG00000001084.9</th>\n",
       "      <th>...</th>\n",
       "      <th>ENSGR0000276543.3</th>\n",
       "      <th>ENSGR0000277120.3</th>\n",
       "      <th>ENSGR0000280767.1</th>\n",
       "      <th>ENSGR0000281849.1</th>\n",
       "      <th>0</th>\n",
       "      <th>origin</th>\n",
       "      <th>ctype</th>\n",
       "      <th>3</th>\n",
       "      <th>4</th>\n",
       "      <th>5</th>\n",
       "    </tr>\n",
       "  </thead>\n",
       "  <tbody>\n",
       "  </tbody>\n",
       "</table>\n",
       "<p>0 rows × 60490 columns</p>\n",
       "</div>"
      ],
      "text/plain": [
       "Empty DataFrame\n",
       "Columns: [Sample, ENSG00000000003.13, ENSG00000000005.5, ENSG00000000419.11, ENSG00000000457.12, ENSG00000000460.15, ENSG00000000938.11, ENSG00000000971.14, ENSG00000001036.12, ENSG00000001084.9, ENSG00000001167.13, ENSG00000001460.16, ENSG00000001461.15, ENSG00000001497.15, ENSG00000001561.6, ENSG00000001617.10, ENSG00000001626.13, ENSG00000001629.8, ENSG00000001630.14, ENSG00000001631.13, ENSG00000002016.15, ENSG00000002079.11, ENSG00000002330.12, ENSG00000002549.11, ENSG00000002586.16, ENSG00000002587.8, ENSG00000002726.18, ENSG00000002745.11, ENSG00000002746.13, ENSG00000002822.14, ENSG00000002834.16, ENSG00000002919.13, ENSG00000002933.6, ENSG00000003056.6, ENSG00000003096.12, ENSG00000003137.7, ENSG00000003147.16, ENSG00000003249.12, ENSG00000003393.13, ENSG00000003400.13, ENSG00000003402.18, ENSG00000003436.13, ENSG00000003509.14, ENSG00000003756.15, ENSG00000003987.12, ENSG00000003989.15, ENSG00000004059.9, ENSG00000004139.12, ENSG00000004142.10, ENSG00000004399.11, ENSG00000004455.15, ENSG00000004468.11, ENSG00000004478.7, ENSG00000004487.14, ENSG00000004534.13, ENSG00000004660.13, ENSG00000004700.14, ENSG00000004766.14, ENSG00000004776.10, ENSG00000004777.17, ENSG00000004779.8, ENSG00000004799.7, ENSG00000004809.12, ENSG00000004838.12, ENSG00000004846.15, ENSG00000004848.6, ENSG00000004864.12, ENSG00000004866.17, ENSG00000004897.10, ENSG00000004939.12, ENSG00000004948.12, ENSG00000004961.13, ENSG00000004975.10, ENSG00000005001.8, ENSG00000005007.11, ENSG00000005020.11, ENSG00000005022.5, ENSG00000005059.14, ENSG00000005073.5, ENSG00000005075.14, ENSG00000005100.11, ENSG00000005102.11, ENSG00000005108.14, ENSG00000005156.10, ENSG00000005175.8, ENSG00000005187.10, ENSG00000005189.18, ENSG00000005194.13, ENSG00000005206.15, ENSG00000005238.18, ENSG00000005243.8, ENSG00000005249.11, ENSG00000005302.16, ENSG00000005339.11, ENSG00000005379.14, ENSG00000005381.7, ENSG00000005421.7, ENSG00000005436.12, ENSG00000005448.15, ENSG00000005469.10, ...]\n",
       "Index: []\n",
       "\n",
       "[0 rows x 60490 columns]"
      ]
     },
     "execution_count": 37,
     "metadata": {},
     "output_type": "execute_result"
    }
   ],
   "source": [
    "nt_org.merge(nt_meta, how='inner', on='Sample')"
   ]
  },
  {
   "cell_type": "code",
   "execution_count": null,
   "metadata": {},
   "outputs": [],
   "source": []
  },
  {
   "cell_type": "code",
   "execution_count": null,
   "metadata": {},
   "outputs": [],
   "source": [
    "# Load data\n",
    "print('Loading NT data ...')\n",
    "nt = pd.read_csv(os.path.join(DATAPATH, FILENAME), sep=',')\n",
    "mm = pd.read_csv(os.path.join(DATAPATH, GENEMAPFILE), sep='\\t')\n",
    "\n",
    "# Extract lincs cols from the whole dataset\n",
    "nt = nt[['Sample'] + mm['gdc'].tolist()]\n",
    "\n",
    "# Map lincs gene names and sort genes alphabetically\n",
    "col_mapping = {mm.loc[g, 'gdc']: mm.loc[g, 'symbol'] for g in range(mm.shape[0])}\n",
    "nt = nt.rename(columns=col_mapping)\n",
    "nt = nt[['Sample'] + sorted(nt.columns[1:].tolist())]\n",
    "\n",
    "# Shuffle and extract the target label\n",
    "nt = nt.sample(n=nt.shape[0], axis=0, replace=False, random_state=SEED).reset_index(drop=True)\n",
    "nt['Sample'] = nt['Sample'].map(lambda s: s.split('-')[-1]).values\n",
    "nt.rename(columns={'Sample': 'y'}, inplace=True)\n",
    "\n",
    "print(nt['y'].value_counts())\n",
    "nt.to_csv(os.path.join(OUTDIR, f'{APP}_data'), sep='\\t', index=False)"
   ]
  },
  {
   "cell_type": "code",
   "execution_count": null,
   "metadata": {},
   "outputs": [],
   "source": []
  },
  {
   "cell_type": "code",
   "execution_count": 4,
   "metadata": {},
   "outputs": [],
   "source": [
    "mm = pd.read_csv(os.path.join(datapath, 'lincs1000.tsv'), sep='\\t')"
   ]
  },
  {
   "cell_type": "code",
   "execution_count": 5,
   "metadata": {},
   "outputs": [
    {
     "name": "stdout",
     "output_type": "stream",
     "text": [
      "(3000, 980)\n",
      "(1000, 980)\n"
     ]
    }
   ],
   "source": [
    "data_train = data_train_org[['case_id', 'cancer_type'] + mm['gdc'].tolist()]  # Extract lincs from the whole dataset\n",
    "data_val = data_val_org[['case_id', 'cancer_type'] + mm['gdc'].tolist()]  # Extract lincs from the whole dataset\n",
    "print(data_train.shape)\n",
    "print(data_val.shape)"
   ]
  },
  {
   "cell_type": "code",
   "execution_count": 6,
   "metadata": {},
   "outputs": [],
   "source": [
    "# Map lincs gene names\n",
    "col_mapping = {mm.loc[g, 'gdc']: mm.loc[g, 'symbol'] for g in range(mm.shape[0])}\n",
    "data_train = data_train.rename(columns=col_mapping)\n",
    "data_val = data_val.rename(columns=col_mapping)"
   ]
  },
  {
   "cell_type": "code",
   "execution_count": 7,
   "metadata": {},
   "outputs": [],
   "source": [
    "data_train = data_train[['case_id', 'cancer_type'] + sorted(data_train.columns[2:].tolist())]\n",
    "data_val = data_val[['case_id', 'cancer_type'] + sorted(data_val.columns[2:].tolist())]"
   ]
  },
  {
   "cell_type": "code",
   "execution_count": 8,
   "metadata": {},
   "outputs": [],
   "source": [
    "data_train.drop(columns='case_id', inplace=True)\n",
    "data_val.drop(columns='case_id', inplace=True)"
   ]
  },
  {
   "cell_type": "code",
   "execution_count": 9,
   "metadata": {},
   "outputs": [],
   "source": [
    "data_train.rename(columns={'cancer_type': 'y'}, inplace=True)\n",
    "data_val.rename(columns={'cancer_type': 'y'}, inplace=True)"
   ]
  },
  {
   "cell_type": "code",
   "execution_count": 10,
   "metadata": {},
   "outputs": [
    {
     "data": {
      "text/plain": [
       "Lung Squamous Cell Carcinoma             300\n",
       "Lung Adenocarcinoma                      300\n",
       "Prostate Adenocarcinoma                  300\n",
       "Brain Lower Grade Glioma                 300\n",
       "Others                                   300\n",
       "Uterine Corpus Endometrial Carcinoma     300\n",
       "Thyroid Carcinoma                        300\n",
       "Breast Invasive Carcinoma                300\n",
       "Skin Cutaneous Melanoma                  300\n",
       "Head and Neck Squamous Cell Carcinoma    300\n",
       "Name: y, dtype: int64"
      ]
     },
     "execution_count": 10,
     "metadata": {},
     "output_type": "execute_result"
    }
   ],
   "source": [
    "data_train['y'].value_counts()"
   ]
  },
  {
   "cell_type": "code",
   "execution_count": 11,
   "metadata": {},
   "outputs": [
    {
     "data": {
      "text/plain": [
       "Uterine Corpus Endometrial Carcinoma     100\n",
       "Lung Squamous Cell Carcinoma             100\n",
       "Thyroid Carcinoma                        100\n",
       "Breast Invasive Carcinoma                100\n",
       "Lung Adenocarcinoma                      100\n",
       "Skin Cutaneous Melanoma                  100\n",
       "Head and Neck Squamous Cell Carcinoma    100\n",
       "Prostate Adenocarcinoma                  100\n",
       "Brain Lower Grade Glioma                 100\n",
       "Others                                   100\n",
       "Name: y, dtype: int64"
      ]
     },
     "execution_count": 11,
     "metadata": {},
     "output_type": "execute_result"
    }
   ],
   "source": [
    "data_val['y'].value_counts()"
   ]
  },
  {
   "cell_type": "code",
   "execution_count": 21,
   "metadata": {},
   "outputs": [],
   "source": [
    "y_train = data_train['y'].values\n",
    "y_val = data_val['y'].values\n",
    "y_enc = LabelEncoder()"
   ]
  },
  {
   "cell_type": "code",
   "execution_count": 22,
   "metadata": {},
   "outputs": [],
   "source": [
    "y_train = y_enc.fit_transform(y_train)\n",
    "y_val = y_enc.transform(y_val)"
   ]
  },
  {
   "cell_type": "code",
   "execution_count": null,
   "metadata": {},
   "outputs": [],
   "source": [
    "y_encoded = pd.DataFrame(data={'label': np.arange(0, len(y_enc.classes_)), 'type': y_enc.classes_})\n",
    "y_encoded.to_csv(os.path.join(OUTDIR, 'tc_y_enc_ff'), sep='\\t', index=False)"
   ]
  },
  {
   "cell_type": "code",
   "execution_count": 37,
   "metadata": {},
   "outputs": [],
   "source": [
    "data_train['y'] = y_train\n",
    "data_val['y'] = y_val"
   ]
  },
  {
   "cell_type": "code",
   "execution_count": 42,
   "metadata": {},
   "outputs": [],
   "source": [
    "data_train = data_train.sample(n=data_train.shape[1], replace=False, random_state=SEED).reset_index(drop=True)\n",
    "data_val = data_val.sample(n=data_val.shape[1], replace=False, random_state=SEED).reset_index(drop=True)"
   ]
  },
  {
   "cell_type": "code",
   "execution_count": null,
   "metadata": {},
   "outputs": [],
   "source": []
  },
  {
   "cell_type": "code",
   "execution_count": 46,
   "metadata": {},
   "outputs": [],
   "source": [
    "# data_train.to_csv(os.path.join(file_path, 'data', 'P1B1.dev.train.lincs.csv'), index=False)\n",
    "# data_val.to_csv(os.path.join(file_path, 'data', 'P1B1.dev.test.lincs.csv'), index=False)\n",
    "\n",
    "data_train.to_csv(os.path.join(OUTDIR, 'P1B1.dev.train.lincs'), sep='\\t', index=False)\n",
    "data_val.to_csv(os.path.join(OUTDIR, 'P1B1.dev.test.lincs'), sep='\\t', index=False)"
   ]
  },
  {
   "cell_type": "code",
   "execution_count": null,
   "metadata": {},
   "outputs": [],
   "source": []
  }
 ],
 "metadata": {
  "kernelspec": {
   "display_name": "Python 3",
   "language": "python",
   "name": "python3"
  },
  "language_info": {
   "codemirror_mode": {
    "name": "ipython",
    "version": 3
   },
   "file_extension": ".py",
   "mimetype": "text/x-python",
   "name": "python",
   "nbconvert_exporter": "python",
   "pygments_lexer": "ipython3",
   "version": "3.6.6"
  }
 },
 "nbformat": 4,
 "nbformat_minor": 2
}
