{
 "cells": [
  {
   "cell_type": "code",
   "execution_count": 1,
   "metadata": {},
   "outputs": [
    {
     "name": "stderr",
     "output_type": "stream",
     "text": [
      "Using TensorFlow backend.\n"
     ]
    }
   ],
   "source": [
    "# %load_ext autoreload\n",
    "%reload_ext autoreload\n",
    "%autoreload 2\n",
    "%matplotlib inline\n",
    "\n",
    "import os\n",
    "import sys\n",
    "import time\n",
    "import pdb\n",
    "import numpy as np\n",
    "import pandas as pd\n",
    "import matplotlib.pyplot as plt\n",
    "import seaborn as sns\n",
    "\n",
    "import networkx as nx\n",
    "\n",
    "from sklearn.preprocessing import LabelEncoder, StandardScaler\n",
    "from sklearn.metrics import f1_score, accuracy_score\n",
    "from sklearn.ensemble import RandomForestClassifier, ExtraTreesClassifier\n",
    "from sklearn.model_selection import train_test_split\n",
    "\n",
    "# Clustering\n",
    "from sklearn.datasets import make_biclusters, make_checkerboard, make_classification\n",
    "from sklearn.datasets import samples_generator as sg\n",
    "from sklearn.cluster.bicluster import SpectralCoclustering, SpectralBiclustering\n",
    "from sklearn.metrics import consensus_score\n",
    "\n",
    "# Corr\n",
    "from scipy.stats import spearmanr, pearsonr\n",
    "from numpy import corrcoef\n",
    "\n",
    "# Utils\n",
    "file_path = os.getcwd()  # os.path.dirname(os.path.relpath(__file__))\n",
    "utils_path = os.path.abspath(os.path.join(file_path, '..', '..', 'utils_py'))\n",
    "sys.path.append(utils_path)\n",
    "import utils_all as utils\n",
    "\n",
    "# Feature importance\n",
    "pfi_path = os.path.abspath(os.path.join(file_path, '..', 'pfi'))\n",
    "sys.path.append(pfi_path)\n",
    "import pfi\n",
    "import pfi_utils\n",
    "\n",
    "import warnings\n",
    "warnings.filterwarnings('ignore')\n",
    "\n",
    "SEED=0"
   ]
  },
  {
   "cell_type": "code",
   "execution_count": 2,
   "metadata": {},
   "outputs": [],
   "source": [
    "def create_nn_classifier(n_features, n_classes):\n",
    "    # https://sebastianraschka.com/faq/docs/dropout-activation.html\n",
    "    keras_model = Sequential()\n",
    "    keras_model.add(Dense(units=32, activation='relu', input_shape=(n_features,)))\n",
    "    keras_model.add(Dense(units=32, activation='relu'))\n",
    "    # if n_classes == 2:\n",
    "    #     keras_model.add(Dense(units=1, activation='sigmoid'))\n",
    "    #     keras_model.compile(loss='binary_crossentropy', optimizer='adam', metrics=['accuracy'])\n",
    "    # elif n_classes > 2:\n",
    "    \n",
    "    # keras_model.add(Activation('softmax'))\n",
    "    # keras_model.add(Dropout(0.2))\n",
    "    # keras_model.add(Dense(units=n_classes, activation=None))\n",
    "    keras_model.add(Dense(units=n_classes, activation='softmax'))\n",
    "    keras_model.compile(loss='categorical_crossentropy', optimizer='adam', metrics=['accuracy'])\n",
    "    return keras_model"
   ]
  },
  {
   "cell_type": "code",
   "execution_count": 3,
   "metadata": {},
   "outputs": [],
   "source": [
    "path = 'results_aacr_tc_cor0.9_combat'\n",
    "# path = 'results_aacr_tc_cor0.95_combat'\n",
    "# path = 'results_aacr_tc_cor1.0_combat'\n",
    "nns_fi = pd.read_csv(os.path.join(file_path, path, 'tc_nn_fi_score.csv'))\n",
    "nnv_fi = pd.read_csv(os.path.join(file_path, path, 'tc_nn_fi_var.csv'))\n",
    "rfs_fi = pd.read_csv(os.path.join(file_path, path, 'tc_rf_fi_score.csv'))\n",
    "rfv_fi = pd.read_csv(os.path.join(file_path, path, 'tc_rf_fi_var.csv'))\n",
    "rf_fi  = pd.read_csv(os.path.join(file_path, path, 'tc_rf_fi.csv'))"
   ]
  },
  {
   "cell_type": "code",
   "execution_count": 4,
   "metadata": {},
   "outputs": [],
   "source": [
    "data_train = pd.read_csv(os.path.join(file_path, 'data', 'tc_data_train'), sep='\\t')\n",
    "data_val   = pd.read_csv(os.path.join(file_path, 'data', 'tc_data_val'), sep='\\t')"
   ]
  },
  {
   "cell_type": "markdown",
   "metadata": {},
   "source": [
    "### Do these groups make any sense?"
   ]
  },
  {
   "cell_type": "code",
   "execution_count": 5,
   "metadata": {},
   "outputs": [
    {
     "data": {
      "text/html": [
       "<div>\n",
       "<style scoped>\n",
       "    .dataframe tbody tr th:only-of-type {\n",
       "        vertical-align: middle;\n",
       "    }\n",
       "\n",
       "    .dataframe tbody tr th {\n",
       "        vertical-align: top;\n",
       "    }\n",
       "\n",
       "    .dataframe thead th {\n",
       "        text-align: right;\n",
       "    }\n",
       "</style>\n",
       "<table border=\"1\" class=\"dataframe\">\n",
       "  <thead>\n",
       "    <tr style=\"text-align: right;\">\n",
       "      <th></th>\n",
       "      <th>cols</th>\n",
       "      <th>n</th>\n",
       "      <th>imp</th>\n",
       "    </tr>\n",
       "  </thead>\n",
       "  <tbody>\n",
       "    <tr>\n",
       "      <th>1</th>\n",
       "      <td>AURKB,BIRC5,CCNA2,CCNB2,CDC20,CDC45,KIF2C,MELK...</td>\n",
       "      <td>11</td>\n",
       "      <td>0.022611</td>\n",
       "    </tr>\n",
       "    <tr>\n",
       "      <th>12</th>\n",
       "      <td>BUB1B,CDK1,KIF14,KIF20A,NUSAP1,TOP2A</td>\n",
       "      <td>6</td>\n",
       "      <td>0.007652</td>\n",
       "    </tr>\n",
       "    <tr>\n",
       "      <th>17</th>\n",
       "      <td>CCNB1,UBE2C</td>\n",
       "      <td>2</td>\n",
       "      <td>0.006409</td>\n",
       "    </tr>\n",
       "    <tr>\n",
       "      <th>326</th>\n",
       "      <td>IKZF1,PTPRC</td>\n",
       "      <td>2</td>\n",
       "      <td>0.000906</td>\n",
       "    </tr>\n",
       "    <tr>\n",
       "      <th>503</th>\n",
       "      <td>HLA-DMA,HLA-DRA</td>\n",
       "      <td>2</td>\n",
       "      <td>0.000340</td>\n",
       "    </tr>\n",
       "  </tbody>\n",
       "</table>\n",
       "</div>"
      ],
      "text/plain": [
       "                                                  cols   n       imp\n",
       "1    AURKB,BIRC5,CCNA2,CCNB2,CDC20,CDC45,KIF2C,MELK...  11  0.022611\n",
       "12                BUB1B,CDK1,KIF14,KIF20A,NUSAP1,TOP2A   6  0.007652\n",
       "17                                         CCNB1,UBE2C   2  0.006409\n",
       "326                                        IKZF1,PTPRC   2  0.000906\n",
       "503                                    HLA-DMA,HLA-DRA   2  0.000340"
      ]
     },
     "execution_count": 5,
     "metadata": {},
     "output_type": "execute_result"
    }
   ],
   "source": [
    "rfv_fi[rfv_fi['n']>1]"
   ]
  },
  {
   "cell_type": "code",
   "execution_count": 6,
   "metadata": {},
   "outputs": [
    {
     "data": {
      "text/html": [
       "<div>\n",
       "<style scoped>\n",
       "    .dataframe tbody tr th:only-of-type {\n",
       "        vertical-align: middle;\n",
       "    }\n",
       "\n",
       "    .dataframe tbody tr th {\n",
       "        vertical-align: top;\n",
       "    }\n",
       "\n",
       "    .dataframe thead th {\n",
       "        text-align: right;\n",
       "    }\n",
       "</style>\n",
       "<table border=\"1\" class=\"dataframe\">\n",
       "  <thead>\n",
       "    <tr style=\"text-align: right;\">\n",
       "      <th></th>\n",
       "      <th>cols</th>\n",
       "      <th>n</th>\n",
       "      <th>imp</th>\n",
       "    </tr>\n",
       "  </thead>\n",
       "  <tbody>\n",
       "    <tr>\n",
       "      <th>16</th>\n",
       "      <td>AURKB,BIRC5,CCNA2,CCNB2,CDC20,CDC45,KIF2C,MELK...</td>\n",
       "      <td>11</td>\n",
       "      <td>0.002618</td>\n",
       "    </tr>\n",
       "    <tr>\n",
       "      <th>56</th>\n",
       "      <td>BUB1B,CDK1,KIF14,KIF20A,NUSAP1,TOP2A</td>\n",
       "      <td>6</td>\n",
       "      <td>0.002126</td>\n",
       "    </tr>\n",
       "    <tr>\n",
       "      <th>101</th>\n",
       "      <td>IKZF1,PTPRC</td>\n",
       "      <td>2</td>\n",
       "      <td>0.001794</td>\n",
       "    </tr>\n",
       "    <tr>\n",
       "      <th>278</th>\n",
       "      <td>HLA-DMA,HLA-DRA</td>\n",
       "      <td>2</td>\n",
       "      <td>0.001304</td>\n",
       "    </tr>\n",
       "    <tr>\n",
       "      <th>518</th>\n",
       "      <td>CCNB1,UBE2C</td>\n",
       "      <td>2</td>\n",
       "      <td>0.000907</td>\n",
       "    </tr>\n",
       "  </tbody>\n",
       "</table>\n",
       "</div>"
      ],
      "text/plain": [
       "                                                  cols   n       imp\n",
       "16   AURKB,BIRC5,CCNA2,CCNB2,CDC20,CDC45,KIF2C,MELK...  11  0.002618\n",
       "56                BUB1B,CDK1,KIF14,KIF20A,NUSAP1,TOP2A   6  0.002126\n",
       "101                                        IKZF1,PTPRC   2  0.001794\n",
       "278                                    HLA-DMA,HLA-DRA   2  0.001304\n",
       "518                                        CCNB1,UBE2C   2  0.000907"
      ]
     },
     "execution_count": 6,
     "metadata": {},
     "output_type": "execute_result"
    }
   ],
   "source": [
    "nnv_fi[nnv_fi['n']>1]"
   ]
  },
  {
   "cell_type": "markdown",
   "metadata": {},
   "source": [
    "### Throw away all the correlated features"
   ]
  },
  {
   "cell_type": "code",
   "execution_count": 7,
   "metadata": {},
   "outputs": [],
   "source": [
    "def find_cor_cols(fi):\n",
    "    # fi = fi.loc[fi['n']>1, 'cols']\n",
    "    cols_to_drop = []\n",
    "    for col_set in fi['cols'].tolist():\n",
    "        if len(col_set.split(',')) > 1:\n",
    "            # print(col_set)\n",
    "            col = np.array(col_set.split(','))\n",
    "            cols_to_drop.extend(col)\n",
    "    return cols_to_drop"
   ]
  },
  {
   "cell_type": "code",
   "execution_count": 8,
   "metadata": {},
   "outputs": [
    {
     "data": {
      "text/plain": [
       "23"
      ]
     },
     "execution_count": 8,
     "metadata": {},
     "output_type": "execute_result"
    }
   ],
   "source": [
    "cols_to_drop = find_cor_cols(fi=rfv_fi)\n",
    "len(cols_to_drop)"
   ]
  },
  {
   "cell_type": "code",
   "execution_count": 9,
   "metadata": {},
   "outputs": [],
   "source": [
    "def drop_cols_from_fi(fi, cols_to_drop):\n",
    "    idx = []\n",
    "    for col_set in fi['cols'].tolist():\n",
    "        if len(set(col_set.split(',')).intersection(cols_to_drop)) > 0:\n",
    "            idx.append(False)\n",
    "        else:\n",
    "            idx.append(True)\n",
    "    fi = fi[idx].copy()\n",
    "    return fi"
   ]
  },
  {
   "cell_type": "code",
   "execution_count": 10,
   "metadata": {},
   "outputs": [],
   "source": [
    "rf_fi  = drop_cols_from_fi(fi=rf_fi,  cols_to_drop=cols_to_drop)\n",
    "rfv_fi = drop_cols_from_fi(fi=rfv_fi, cols_to_drop=cols_to_drop)\n",
    "rfs_fi = drop_cols_from_fi(fi=rfs_fi, cols_to_drop=cols_to_drop)\n",
    "nnv_fi = drop_cols_from_fi(fi=nnv_fi, cols_to_drop=cols_to_drop)\n",
    "nnv_fi = drop_cols_from_fi(fi=nnv_fi, cols_to_drop=cols_to_drop)"
   ]
  },
  {
   "cell_type": "code",
   "execution_count": 11,
   "metadata": {},
   "outputs": [
    {
     "name": "stdout",
     "output_type": "stream",
     "text": [
      "(4080, 919)\n",
      "(1020, 919)\n"
     ]
    }
   ],
   "source": [
    "data_train = data_train.drop(columns=cols_to_drop, errors='ignore')\n",
    "data_val = data_val.drop(columns=cols_to_drop, errors='ignore')\n",
    "print(data_train.shape)\n",
    "print(data_val.shape)"
   ]
  },
  {
   "cell_type": "code",
   "execution_count": 12,
   "metadata": {},
   "outputs": [
    {
     "name": "stdout",
     "output_type": "stream",
     "text": [
      "xtr.shape (4080, 918)\n",
      "xvl.shape (1020, 918)\n",
      "ytr.shape (4080,)\n",
      "yvl.shape (1020,)\n"
     ]
    }
   ],
   "source": [
    "xtr = data_train.iloc[:, 1:].copy()\n",
    "ytr = data_train.iloc[:, 0].copy()\n",
    "xvl = data_val.iloc[:, 1:].copy()\n",
    "yvl = data_val.iloc[:, 0].copy()\n",
    "features = xtr.columns\n",
    "print(f'xtr.shape {xtr.shape}')\n",
    "print(f'xvl.shape {xvl.shape}')\n",
    "print(f'ytr.shape {ytr.shape}')\n",
    "print(f'yvl.shape {yvl.shape}')"
   ]
  },
  {
   "cell_type": "code",
   "execution_count": 13,
   "metadata": {},
   "outputs": [],
   "source": [
    "def acc_vs_ncols(xtr, xvl, ytr, yvl, fi):\n",
    "    xtr = xtr.copy()\n",
    "    xvl = xvl.copy()\n",
    "    ytr = ytr.copy()\n",
    "    yvl = yvl.copy()\n",
    "    \n",
    "    ncols = [1, 2, 3, 4, 5, 6, 7, 8, 9, 10, 15, 20, 30, 50, 100, 200, 300, 500, 700, 941]\n",
    "    ss = pd.DataFrame(index=range(len(ncols)), columns=['ncols', 'RF_F1', 'NN_F1'])\n",
    "    fi = fi.copy().reset_index(drop=True)\n",
    "    \n",
    "    for i, nc in enumerate(ncols):\n",
    "        # print(nc)\n",
    "        # xtr_ = xtr[fi.loc[:nc-1, 'col'].tolist()]\n",
    "        # xvl_ = xvl[fi.loc[:nc-1, 'col'].tolist()]        \n",
    "        \n",
    "        cols = []\n",
    "        for col_set in fi.loc[:nc-1, 'cols'].tolist():\n",
    "            # print(col_set)\n",
    "            if len(col_set.split(',')) > 1:\n",
    "                col = np.random.choice(np.array(col_set.split(',')), size=1)[0]\n",
    "                cols.append(col)\n",
    "            else:\n",
    "                cols.append(col_set)\n",
    "                \n",
    "        xtr_ = xtr[cols]\n",
    "        xvl_ = xvl[cols]\n",
    "\n",
    "        ss.loc[i, 'ncols'] = xtr_.shape[1]\n",
    "        \n",
    "        rf_model = RandomForestClassifier(n_estimators=200, max_features='sqrt', random_state=SEED)\n",
    "        rf_model.fit(xtr_, ytr)\n",
    "\n",
    "        yvl_preds = rf_model.predict(xvl_)\n",
    "        f1_macro = f1_score(y_true=yvl, y_pred=yvl_preds, average='macro')\n",
    "        # print('f1_score micro: {:.3f}'.format(f1_score(y_true=yvl, y_pred=yvl_preds, average='micro')))\n",
    "        # print(f'ncols {nc}; f1_score macro: {f1_macro:.3f}')\n",
    "\n",
    "        ss.loc[i, 'RF_F1'] = f1_macro\n",
    "    return ss"
   ]
  },
  {
   "cell_type": "code",
   "execution_count": 14,
   "metadata": {},
   "outputs": [],
   "source": [
    "rf_acc     = acc_vs_ncols(xtr, xvl, ytr, yvl, fi=rf_fi)\n",
    "rf_acc_inv = acc_vs_ncols(xtr, xvl, ytr, yvl, fi=rf_fi[::-1])"
   ]
  },
  {
   "cell_type": "code",
   "execution_count": 15,
   "metadata": {},
   "outputs": [],
   "source": [
    "rfv_acc     = acc_vs_ncols(xtr, xvl, ytr, yvl, fi=rfv_fi)\n",
    "rfv_acc_inv = acc_vs_ncols(xtr, xvl, ytr, yvl, fi=rfv_fi[::-1])"
   ]
  },
  {
   "cell_type": "code",
   "execution_count": 16,
   "metadata": {},
   "outputs": [],
   "source": [
    "# rfs_acc     = acc_vs_ncols(xtr, xvl, ytr, yvl, fi=rfs_fi)\n",
    "# rfs_acc_inv = acc_vs_ncols(xtr, xvl, ytr, yvl, fi=rfs_fi[::-1])"
   ]
  },
  {
   "cell_type": "code",
   "execution_count": 17,
   "metadata": {},
   "outputs": [],
   "source": [
    "# nns_acc = acc_vs_ncols(xtr, xvl, ytr, yvl, fi=nns_fi)\n",
    "# nns_acc_inv = acc_vs_ncols(xtr, xvl, ytr, yvl, fi=nns_fi[::-1])"
   ]
  },
  {
   "cell_type": "code",
   "execution_count": 18,
   "metadata": {},
   "outputs": [
    {
     "data": {
      "image/png": "[encoded data removed]",
      "text/plain": [
       "<Figure size 1296x576 with 1 Axes>"
      ]
     },
     "metadata": {
      "needs_background": "light"
     },
     "output_type": "display_data"
    }
   ],
   "source": [
    "fontsize = 12\n",
    "fig, ax = plt.subplots(figsize=(18, 8))\n",
    "\n",
    "ax.plot(rf_acc['ncols'], rf_acc['RF_F1'], 'bo--', alpha=0.5, label='rf N most important features');\n",
    "ax.plot(rf_acc_inv['ncols'], rf_acc_inv['RF_F1'], 'bo-', alpha=0.5, label='rf N least important features');\n",
    "\n",
    "# ax.plot(rfs_acc['ncols'], rfs_acc['RF_F1'], 'ks--', alpha=0.5, label='rfs N most important features');\n",
    "# ax.plot(rfs_acc_inv['ncols'], rfs_acc_inv['RF_F1'], 'ms--', alpha=0.5, label='rfs N least important features');\n",
    "\n",
    "ax.plot(rfv_acc['ncols'], rfv_acc['RF_F1'], 'rv--', alpha=0.5, label='rfv N most important features');\n",
    "ax.plot(rfv_acc_inv['ncols'], rfv_acc_inv['RF_F1'], 'rv-', alpha=0.5, label='rfv N least important features');\n",
    "\n",
    "ax.set_title(path)\n",
    "ax.set_xlabel('Number of features', fontsize=fontsize)\n",
    "ax.set_ylabel('F1 score', fontsize=fontsize)\n",
    "ax.grid()\n",
    "ax.set_yticks(np.arange(0, 0.95, 0.05))\n",
    "ax.set_ylim([0.05, 0.95])\n",
    "ax.set_xlim([-5, 200])\n",
    "# plt.legend(loc='best', prop={'size': legend_font_size});\n",
    "\n",
    "ax.legend(loc='lower left', bbox_to_anchor=(1.01, 0.0), ncol=1,\n",
    "          borderaxespad=0, frameon=True, prop={'size': fontsize});"
   ]
  },
  {
   "cell_type": "code",
   "execution_count": null,
   "metadata": {},
   "outputs": [],
   "source": []
  }
 ],
 "metadata": {
  "kernelspec": {
   "display_name": "Python 3",
   "language": "python",
   "name": "python3"
  },
  "language_info": {
   "codemirror_mode": {
    "name": "ipython",
    "version": 3
   },
   "file_extension": ".py",
   "mimetype": "text/x-python",
   "name": "python",
   "nbconvert_exporter": "python",
   "pygments_lexer": "ipython3",
   "version": "3.6.6"
  }
 },
 "nbformat": 4,
 "nbformat_minor": 2
}
