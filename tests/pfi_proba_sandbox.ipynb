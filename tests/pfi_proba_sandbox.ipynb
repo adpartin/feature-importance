{
 "cells": [
  {
   "cell_type": "code",
   "execution_count": 1,
   "metadata": {},
   "outputs": [
    {
     "name": "stderr",
     "output_type": "stream",
     "text": [
      "Using TensorFlow backend.\n"
     ]
    }
   ],
   "source": [
    "# %load_ext autoreload\n",
    "%reload_ext autoreload\n",
    "%autoreload 2\n",
    "%matplotlib inline\n",
    "\n",
    "import os\n",
    "import sys\n",
    "import time\n",
    "import pdb\n",
    "import numpy as np\n",
    "import pandas as pd\n",
    "import matplotlib.pyplot as plt\n",
    "import seaborn as sns\n",
    "\n",
    "import networkx as nx\n",
    "\n",
    "from sklearn.preprocessing import LabelEncoder, StandardScaler\n",
    "from sklearn.metrics import f1_score, accuracy_score\n",
    "from sklearn.ensemble import RandomForestClassifier, ExtraTreesClassifier\n",
    "from sklearn.model_selection import train_test_split\n",
    "\n",
    "# Clustering\n",
    "from sklearn.datasets import make_biclusters, make_checkerboard, make_classification\n",
    "from sklearn.datasets import samples_generator as sg\n",
    "from sklearn.cluster.bicluster import SpectralCoclustering, SpectralBiclustering\n",
    "from sklearn.metrics import consensus_score\n",
    "\n",
    "# Corr\n",
    "from scipy.stats import spearmanr, pearsonr\n",
    "from numpy import corrcoef\n",
    "\n",
    "# Utils\n",
    "file_path = os.getcwd()  # os.path.dirname(os.path.relpath(__file__))\n",
    "utils_path = os.path.abspath(os.path.join(file_path, '..', '..', 'utils_py'))\n",
    "sys.path.append(utils_path)\n",
    "import utils_all as utils\n",
    "\n",
    "# Feature importance\n",
    "pfi_path = os.path.abspath(os.path.join(file_path, '..', 'pfi'))\n",
    "sys.path.append(pfi_path)\n",
    "import pfi\n",
    "import pfi_utils\n",
    "\n",
    "import warnings\n",
    "warnings.filterwarnings('ignore')\n",
    "\n",
    "SEED=0"
   ]
  },
  {
   "cell_type": "code",
   "execution_count": 2,
   "metadata": {},
   "outputs": [],
   "source": [
    "m = RandomForestClassifier()"
   ]
  },
  {
   "cell_type": "code",
   "execution_count": 4,
   "metadata": {},
   "outputs": [
    {
     "name": "stdout",
     "output_type": "stream",
     "text": [
      "a\n"
     ]
    }
   ],
   "source": [
    "if isinstance(m, RandomForestClassifier):\n",
    "    print('a')"
   ]
  },
  {
   "cell_type": "code",
   "execution_count": null,
   "metadata": {},
   "outputs": [],
   "source": []
  },
  {
   "cell_type": "code",
   "execution_count": 2,
   "metadata": {},
   "outputs": [
    {
     "name": "stdout",
     "output_type": "stream",
     "text": [
      "/vol/ml/apartin/projects/feature-importance/tests\n"
     ]
    }
   ],
   "source": [
    "print(file_path)\n",
    "# DATAPATH_CLASSIFICATION = os.path.join(file_path, 'data', 'data_classification')\n",
    "DATAPATH_CLASSIFICATION_TRAIN = os.path.join(file_path, 'data', 'data_classification_train')\n",
    "DATAPATH_CLASSIFICATION_VAL = os.path.join(file_path, 'data', 'data_classification_val')"
   ]
  },
  {
   "cell_type": "code",
   "execution_count": 3,
   "metadata": {},
   "outputs": [],
   "source": [
    "data_train = pd.read_csv(DATAPATH_CLASSIFICATION_TRAIN, sep='\\t')\n",
    "data_val   = pd.read_csv(DATAPATH_CLASSIFICATION_VAL, sep='\\t')"
   ]
  },
  {
   "cell_type": "code",
   "execution_count": 4,
   "metadata": {},
   "outputs": [
    {
     "name": "stdout",
     "output_type": "stream",
     "text": [
      "data_train.shape (1200, 8)\n",
      "data_val.shape   (300, 8)\n",
      "data_train:\n",
      "    y         A        B       C\n",
      "0  2  1.141000  0.02045  0.5425\n",
      "1  1  0.004353  0.77540 -0.9370\n",
      "2  1  1.313000  0.60200  0.1722\n",
      "data_val:\n",
      "    y       A       B       C\n",
      "0  0  0.1794  0.4258  1.1100\n",
      "1  0 -0.4175 -1.1390 -0.6187\n",
      "2  0 -0.5693 -0.1707 -1.1560\n"
     ]
    }
   ],
   "source": [
    "print('data_train.shape', data_train.shape)\n",
    "print('data_val.shape  ', data_val.shape)\n",
    "print('data_train:\\n', data_train.iloc[:3, :4])\n",
    "print('data_val:\\n', data_val.iloc[:3, :4])"
   ]
  },
  {
   "cell_type": "code",
   "execution_count": 5,
   "metadata": {},
   "outputs": [],
   "source": [
    "xtr = data_train.iloc[:, 1:].copy()\n",
    "ytr = data_train.iloc[:, 0].copy()\n",
    "xvl = data_val.iloc[:, 1:].copy()\n",
    "yvl = data_val.iloc[:, 0].copy()\n",
    "features = xtr.columns"
   ]
  },
  {
   "cell_type": "code",
   "execution_count": 6,
   "metadata": {},
   "outputs": [
    {
     "data": {
      "image/png": "[encoded data removed]",
      "text/plain": [
       "<Figure size 432x288 with 1 Axes>"
      ]
     },
     "metadata": {
      "needs_background": "light"
     },
     "output_type": "display_data"
    }
   ],
   "source": [
    "plt.plot(yvl, '.');  # "
   ]
  },
  {
   "cell_type": "code",
   "execution_count": 7,
   "metadata": {},
   "outputs": [
    {
     "name": "stdout",
     "output_type": "stream",
     "text": [
      "Prediction score (mean accuracy): 0.8633\n"
     ]
    }
   ],
   "source": [
    "rf_model = RandomForestClassifier(n_estimators=150, min_samples_leaf=3, max_features='sqrt', random_state=SEED)\n",
    "# rf_model = ExtraTreesClassifier(n_estimators=150, min_samples_leaf=3, max_features='sqrt', random_state=SEED)\n",
    "rf_model.fit(xtr, ytr);\n",
    "print(f'Prediction score (mean accuracy): {rf_model.score(xvl, yvl):.4f}')"
   ]
  },
  {
   "cell_type": "code",
   "execution_count": 8,
   "metadata": {},
   "outputs": [
    {
     "name": "stdout",
     "output_type": "stream",
     "text": [
      "true [0 0 0 0 0 0 0 0 0 0]\n",
      "pred [1 0 2 0 0 0 0 0 0 0]\n",
      "f1_score micro: 0.863\n",
      "f1_score macro: 0.864\n"
     ]
    }
   ],
   "source": [
    "yvl_pred = rf_model.predict(xvl)\n",
    "print('true', yvl[:10].values)\n",
    "print('pred', yvl_pred[:10])\n",
    "print('f1_score micro: {:.3f}'.format(f1_score(y_true=yvl, y_pred=yvl_pred, average='micro')))\n",
    "print('f1_score macro: {:.3f}'.format(f1_score(y_true=yvl, y_pred=yvl_pred, average='macro')))"
   ]
  },
  {
   "cell_type": "code",
   "execution_count": 9,
   "metadata": {},
   "outputs": [
    {
     "name": "stdout",
     "output_type": "stream",
     "text": [
      "true [0 0 0 0 0 0 0 0 0 0]\n",
      "yvl_pred_p:\n",
      " [[0.43312867 0.49910414 0.0677672 ]\n",
      " [0.96502116 0.01777778 0.01720106]\n",
      " [0.11787302 0.14715079 0.73497619]\n",
      " [0.84172222 0.07572222 0.08255556]\n",
      " [0.94003704 0.006      0.05396296]\n",
      " [0.88549687 0.08313805 0.03136508]\n",
      " [0.84231746 0.05180952 0.10587302]\n",
      " [0.9076431  0.03555556 0.05680135]\n",
      " [0.96977778 0.00522222 0.025     ]\n",
      " [0.9176176  0.02552381 0.05685859]]\n"
     ]
    }
   ],
   "source": [
    "yvl_pred_p = rf_model.predict_proba(xvl)\n",
    "print('true', yvl[:10].values)\n",
    "print('yvl_pred_p:\\n', yvl_pred_p[:10])"
   ]
  },
  {
   "cell_type": "code",
   "execution_count": 10,
   "metadata": {},
   "outputs": [],
   "source": [
    "# cls = 2\n",
    "# idx = yvl.values == cls\n",
    "# # y_true_cls = yvl[idx]\n",
    "# yvl_pred_p_cls = yvl_pred_p[idx,:]\n",
    "# yvl_pred_p_cls[:, cls].mean()"
   ]
  },
  {
   "cell_type": "code",
   "execution_count": 11,
   "metadata": {},
   "outputs": [
    {
     "name": "stdout",
     "output_type": "stream",
     "text": [
      "{0: 0.74657474007474, 1: 0.690410007850602, 2: 0.7356990275950674}\n"
     ]
    }
   ],
   "source": [
    "yvl_pred_p = rf_model.predict_proba(xvl)\n",
    "dd = {}\n",
    "for cl in np.unique(yvl.values):\n",
    "    idx = yvl.values == cl\n",
    "    # y_true_cl = yvl[idx]\n",
    "    dd[cl] = yvl_pred_p[idx, cl].mean()  \n",
    "\n",
    "print(dd)"
   ]
  },
  {
   "cell_type": "code",
   "execution_count": null,
   "metadata": {},
   "outputs": [],
   "source": []
  },
  {
   "cell_type": "code",
   "execution_count": 12,
   "metadata": {},
   "outputs": [
    {
     "data": {
      "text/html": [
       "<div>\n",
       "<style scoped>\n",
       "    .dataframe tbody tr th:only-of-type {\n",
       "        vertical-align: middle;\n",
       "    }\n",
       "\n",
       "    .dataframe tbody tr th {\n",
       "        vertical-align: top;\n",
       "    }\n",
       "\n",
       "    .dataframe thead th {\n",
       "        text-align: right;\n",
       "    }\n",
       "</style>\n",
       "<table border=\"1\" class=\"dataframe\">\n",
       "  <thead>\n",
       "    <tr style=\"text-align: right;\">\n",
       "      <th></th>\n",
       "      <th>col_id</th>\n",
       "      <th>cols</th>\n",
       "      <th>imp</th>\n",
       "      <th>std</th>\n",
       "    </tr>\n",
       "  </thead>\n",
       "  <tbody>\n",
       "    <tr>\n",
       "      <th>0</th>\n",
       "      <td>3</td>\n",
       "      <td>D</td>\n",
       "      <td>0.373398</td>\n",
       "      <td>0.052334</td>\n",
       "    </tr>\n",
       "    <tr>\n",
       "      <th>1</th>\n",
       "      <td>1</td>\n",
       "      <td>B</td>\n",
       "      <td>0.228347</td>\n",
       "      <td>0.045396</td>\n",
       "    </tr>\n",
       "    <tr>\n",
       "      <th>2</th>\n",
       "      <td>2</td>\n",
       "      <td>C</td>\n",
       "      <td>0.187450</td>\n",
       "      <td>0.043308</td>\n",
       "    </tr>\n",
       "    <tr>\n",
       "      <th>3</th>\n",
       "      <td>0</td>\n",
       "      <td>A</td>\n",
       "      <td>0.097966</td>\n",
       "      <td>0.030094</td>\n",
       "    </tr>\n",
       "    <tr>\n",
       "      <th>4</th>\n",
       "      <td>5</td>\n",
       "      <td>F</td>\n",
       "      <td>0.038591</td>\n",
       "      <td>0.014479</td>\n",
       "    </tr>\n",
       "    <tr>\n",
       "      <th>5</th>\n",
       "      <td>4</td>\n",
       "      <td>E</td>\n",
       "      <td>0.038031</td>\n",
       "      <td>0.014485</td>\n",
       "    </tr>\n",
       "    <tr>\n",
       "      <th>6</th>\n",
       "      <td>6</td>\n",
       "      <td>G</td>\n",
       "      <td>0.036217</td>\n",
       "      <td>0.013816</td>\n",
       "    </tr>\n",
       "  </tbody>\n",
       "</table>\n",
       "</div>"
      ],
      "text/plain": [
       "   col_id cols       imp       std\n",
       "0       3    D  0.373398  0.052334\n",
       "1       1    B  0.228347  0.045396\n",
       "2       2    C  0.187450  0.043308\n",
       "3       0    A  0.097966  0.030094\n",
       "4       5    F  0.038591  0.014479\n",
       "5       4    E  0.038031  0.014485\n",
       "6       6    G  0.036217  0.013816"
      ]
     },
     "execution_count": 12,
     "metadata": {},
     "output_type": "execute_result"
    }
   ],
   "source": [
    "utils.get_rf_fi(rf_model=rf_model, columns=xtr.columns)"
   ]
  },
  {
   "cell_type": "code",
   "execution_count": null,
   "metadata": {},
   "outputs": [],
   "source": []
  },
  {
   "cell_type": "code",
   "execution_count": 13,
   "metadata": {},
   "outputs": [
    {
     "name": "stdout",
     "output_type": "stream",
     "text": [
      "Corr matrix after removing features:  (0, 0)\n",
      "Time to compute cliques:  0.00 min\n"
     ]
    }
   ],
   "source": [
    "fi_obj = pfi.PFI(model=rf_model, xdata=xvl, ydata=yvl, n_shuffles=20)\n",
    "fi_obj.gen_col_sets(th=1.0, toplot=False)"
   ]
  },
  {
   "cell_type": "code",
   "execution_count": 14,
   "metadata": {},
   "outputs": [
    {
     "name": "stdout",
     "output_type": "stream",
     "text": [
      "['D']\n",
      "['C']\n",
      "['F']\n",
      "['E']\n",
      "['G']\n",
      "['B']\n",
      "['A']\n"
     ]
    }
   ],
   "source": [
    "fi_obj.compute_pfi(ml_type='c', verbose=False)"
   ]
  },
  {
   "cell_type": "code",
   "execution_count": 19,
   "metadata": {},
   "outputs": [],
   "source": [
    "tt = fi_obj.fi_score_p"
   ]
  },
  {
   "cell_type": "code",
   "execution_count": 20,
   "metadata": {},
   "outputs": [],
   "source": [
    "from scipy.stats import zscore"
   ]
  },
  {
   "cell_type": "code",
   "execution_count": 21,
   "metadata": {},
   "outputs": [
    {
     "data": {
      "image/png": "[encoded data removed]",
      "text/plain": [
       "<Figure size 720x720 with 2 Axes>"
      ]
     },
     "metadata": {
      "needs_background": "light"
     },
     "output_type": "display_data"
    }
   ],
   "source": [
    "plt.figure(figsize=(10, 10))\n",
    "# sns.heatmap(tt, cmap='coolwarm');\n",
    "sns.heatmap(zscore(tt, axis=1), cmap='coolwarm');"
   ]
  },
  {
   "cell_type": "code",
   "execution_count": 23,
   "metadata": {},
   "outputs": [
    {
     "data": {
      "image/png": "[encoded data removed]",
      "text/plain": [
       "<Figure size 720x720 with 2 Axes>"
      ]
     },
     "metadata": {
      "needs_background": "light"
     },
     "output_type": "display_data"
    }
   ],
   "source": [
    "plt.figure(figsize=(10, 10))\n",
    "sns.heatmap(zscore(fi_obj.fi_score_pmap, axis=1), cmap='coolwarm');"
   ]
  },
  {
   "cell_type": "code",
   "execution_count": 14,
   "metadata": {},
   "outputs": [
    {
     "data": {
      "text/html": [
       "<div>\n",
       "<style scoped>\n",
       "    .dataframe tbody tr th:only-of-type {\n",
       "        vertical-align: middle;\n",
       "    }\n",
       "\n",
       "    .dataframe tbody tr th {\n",
       "        vertical-align: top;\n",
       "    }\n",
       "\n",
       "    .dataframe thead th {\n",
       "        text-align: right;\n",
       "    }\n",
       "</style>\n",
       "<table border=\"1\" class=\"dataframe\">\n",
       "  <thead>\n",
       "    <tr style=\"text-align: right;\">\n",
       "      <th></th>\n",
       "      <th>imp_c0</th>\n",
       "      <th>imp_c1</th>\n",
       "      <th>imp_c2</th>\n",
       "    </tr>\n",
       "    <tr>\n",
       "      <th>cols</th>\n",
       "      <th></th>\n",
       "      <th></th>\n",
       "      <th></th>\n",
       "    </tr>\n",
       "  </thead>\n",
       "  <tbody>\n",
       "    <tr>\n",
       "      <th>A</th>\n",
       "      <td>0.189246</td>\n",
       "      <td>0.230791</td>\n",
       "      <td>0.054406</td>\n",
       "    </tr>\n",
       "    <tr>\n",
       "      <th>B</th>\n",
       "      <td>0.0833638</td>\n",
       "      <td>0.135938</td>\n",
       "      <td>0.199053</td>\n",
       "    </tr>\n",
       "    <tr>\n",
       "      <th>C</th>\n",
       "      <td>0.104491</td>\n",
       "      <td>0.0566805</td>\n",
       "      <td>0.0860921</td>\n",
       "    </tr>\n",
       "    <tr>\n",
       "      <th>D</th>\n",
       "      <td>0.091681</td>\n",
       "      <td>0.113876</td>\n",
       "      <td>0.104293</td>\n",
       "    </tr>\n",
       "    <tr>\n",
       "      <th>E</th>\n",
       "      <td>0.138377</td>\n",
       "      <td>0.0438985</td>\n",
       "      <td>0.0884361</td>\n",
       "    </tr>\n",
       "    <tr>\n",
       "      <th>F</th>\n",
       "      <td>-0.00222761</td>\n",
       "      <td>-0.0022218</td>\n",
       "      <td>-0.000218045</td>\n",
       "    </tr>\n",
       "    <tr>\n",
       "      <th>G</th>\n",
       "      <td>0.00217537</td>\n",
       "      <td>0.00171992</td>\n",
       "      <td>-0.00426692</td>\n",
       "    </tr>\n",
       "    <tr>\n",
       "      <th>H</th>\n",
       "      <td>0.00321269</td>\n",
       "      <td>-0.00108459</td>\n",
       "      <td>-0.00202444</td>\n",
       "    </tr>\n",
       "    <tr>\n",
       "      <th>I</th>\n",
       "      <td>-0.000606343</td>\n",
       "      <td>0.00131955</td>\n",
       "      <td>-0.000357143</td>\n",
       "    </tr>\n",
       "    <tr>\n",
       "      <th>J</th>\n",
       "      <td>-0.0021194</td>\n",
       "      <td>0.0029906</td>\n",
       "      <td>-1.69173e-05</td>\n",
       "    </tr>\n",
       "  </tbody>\n",
       "</table>\n",
       "</div>"
      ],
      "text/plain": [
       "           imp_c0      imp_c1       imp_c2\n",
       "cols                                      \n",
       "A        0.189246    0.230791     0.054406\n",
       "B       0.0833638    0.135938     0.199053\n",
       "C        0.104491   0.0566805    0.0860921\n",
       "D        0.091681    0.113876     0.104293\n",
       "E        0.138377   0.0438985    0.0884361\n",
       "F     -0.00222761  -0.0022218 -0.000218045\n",
       "G      0.00217537  0.00171992  -0.00426692\n",
       "H      0.00321269 -0.00108459  -0.00202444\n",
       "I    -0.000606343  0.00131955 -0.000357143\n",
       "J      -0.0021194   0.0029906 -1.69173e-05"
      ]
     },
     "execution_count": 14,
     "metadata": {},
     "output_type": "execute_result"
    }
   ],
   "source": [
    "# fi_obj.fi_p.iloc[:, 2:]\n",
    "mat = fi_obj.fi_score_p.sort_values('cols').reset_index(drop=True)\n",
    "mat = mat.set_index('cols')\n",
    "mat = mat.drop(columns=['n'])\n",
    "mat\n",
    "# pd.DataFrame(fi_obj.fi_p.iloc[:, 2:], index=fi_obj.fi_p['cols'])"
   ]
  },
  {
   "cell_type": "code",
   "execution_count": 17,
   "metadata": {},
   "outputs": [
    {
     "data": {
      "image/png": "[encoded data removed]",
      "text/plain": [
       "<Figure size 720x108 with 2 Axes>"
      ]
     },
     "metadata": {
      "needs_background": "light"
     },
     "output_type": "display_data"
    }
   ],
   "source": [
    "fi_obj.plot_score_fi_p();"
   ]
  },
  {
   "cell_type": "code",
   "execution_count": 21,
   "metadata": {
    "scrolled": true
   },
   "outputs": [
    {
     "data": {
      "image/png": "[encoded data removed]",
      "text/plain": [
       "<Figure size 960x288 with 2 Axes>"
      ]
     },
     "metadata": {
      "needs_background": "light"
     },
     "output_type": "display_data"
    }
   ],
   "source": [
    "plt.matshow(np.array(mat.values, dtype=float).T)\n",
    "plt.xlabel('cols')\n",
    "plt.ylabel('class')\n",
    "plt.colorbar();"
   ]
  },
  {
   "cell_type": "code",
   "execution_count": 22,
   "metadata": {},
   "outputs": [],
   "source": [
    "mat_to_plot = pd.DataFrame(np.array(mat.values, dtype=float).T,\n",
    "                           columns=mat.index,\n",
    "                           index=mat.columns,\n",
    "                           dtype=float)"
   ]
  },
  {
   "cell_type": "code",
   "execution_count": 23,
   "metadata": {},
   "outputs": [
    {
     "data": {
      "text/plain": [
       "Text(0.5,15,'Feature')"
      ]
     },
     "execution_count": 23,
     "metadata": {},
     "output_type": "execute_result"
    },
    {
     "data": {
      "image/png": "[encoded data removed]",
      "text/plain": [
       "<Figure size 1152x288 with 2 Axes>"
      ]
     },
     "metadata": {
      "needs_background": "light"
     },
     "output_type": "display_data"
    }
   ],
   "source": [
    "fig, ax = plt.subplots(figsize=(16, 4))\n",
    "sns.heatmap(mat_to_plot,\n",
    "            annot=True, fmt='.2f', linewidths=0.9,\n",
    "            linecolor='white',  cmap='coolwarm')\n",
    "ax.set_ylabel('Class', fontsize=12)\n",
    "ax.set_xlabel('Feature', fontsize=12)"
   ]
  },
  {
   "cell_type": "code",
   "execution_count": 39,
   "metadata": {},
   "outputs": [],
   "source": [
    "# fi_obj.fi_p.sort_values('imp_cls0', ascending=False)"
   ]
  },
  {
   "cell_type": "code",
   "execution_count": 38,
   "metadata": {},
   "outputs": [],
   "source": [
    "# fi_obj.fi_p.sort_values('imp_cls1', ascending=False)"
   ]
  },
  {
   "cell_type": "code",
   "execution_count": 37,
   "metadata": {},
   "outputs": [],
   "source": [
    "# fi_obj.fi_p.sort_values('imp_cls2', ascending=False)"
   ]
  },
  {
   "cell_type": "code",
   "execution_count": null,
   "metadata": {},
   "outputs": [],
   "source": []
  },
  {
   "cell_type": "code",
   "execution_count": 4,
   "metadata": {},
   "outputs": [
    {
     "name": "stdout",
     "output_type": "stream",
     "text": [
      "aa5.800\n"
     ]
    }
   ],
   "source": [
    "a = 1.3\n",
    "b = 4.5\n",
    "print(f'aa{(a+b):.3f}')"
   ]
  },
  {
   "cell_type": "code",
   "execution_count": null,
   "metadata": {},
   "outputs": [],
   "source": [
    "a=1"
   ]
  },
  {
   "cell_type": "code",
   "execution_count": null,
   "metadata": {},
   "outputs": [],
   "source": []
  }
 ],
 "metadata": {
  "kernelspec": {
   "display_name": "Python 3",
   "language": "python",
   "name": "python3"
  },
  "language_info": {
   "codemirror_mode": {
    "name": "ipython",
    "version": 3
   },
   "file_extension": ".py",
   "mimetype": "text/x-python",
   "name": "python",
   "nbconvert_exporter": "python",
   "pygments_lexer": "ipython3",
   "version": "3.6.6"
  }
 },
 "nbformat": 4,
 "nbformat_minor": 2
}
