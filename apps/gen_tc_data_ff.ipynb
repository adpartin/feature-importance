{
 "cells": [
  {
   "cell_type": "markdown",
   "metadata": {},
   "source": [
    "## Extract LINCS genes from the TC data that we use for becnhmarking feature importance"
   ]
  },
  {
   "cell_type": "markdown",
   "metadata": {},
   "source": [
    "TCGA cancer types\n",
    "https://tcga-data.nci.nih.gov/docs/publications/tcga/\n",
    "\n",
    "There is a problem with duplicated (??)"
   ]
  },
  {
   "cell_type": "code",
   "execution_count": 1,
   "metadata": {},
   "outputs": [
    {
     "name": "stderr",
     "output_type": "stream",
     "text": [
      "Using TensorFlow backend.\n"
     ]
    }
   ],
   "source": [
    "# %load_ext autoreload\n",
    "%reload_ext autoreload\n",
    "%autoreload 2\n",
    "%matplotlib inline\n",
    "\n",
    "import os\n",
    "import sys\n",
    "import time\n",
    "import pdb\n",
    "import numpy as np\n",
    "import pandas as pd\n",
    "import matplotlib.pyplot as plt\n",
    "import seaborn as sns\n",
    "\n",
    "import networkx as nx\n",
    "\n",
    "from sklearn.preprocessing import LabelEncoder, StandardScaler\n",
    "from sklearn.metrics import f1_score, accuracy_score\n",
    "from sklearn.ensemble import RandomForestClassifier, ExtraTreesClassifier\n",
    "from sklearn.model_selection import train_test_split\n",
    "\n",
    "# Clustering\n",
    "from sklearn.datasets import make_biclusters, make_checkerboard, make_classification\n",
    "from sklearn.datasets import samples_generator as sg\n",
    "from sklearn.cluster.bicluster import SpectralCoclustering, SpectralBiclustering\n",
    "from sklearn.metrics import consensus_score\n",
    "\n",
    "# Corr\n",
    "from scipy.stats import spearmanr, pearsonr\n",
    "from numpy import corrcoef\n",
    "\n",
    "# Utils\n",
    "file_path = os.getcwd()  # os.path.dirname(os.path.relpath(__file__))\n",
    "utils_path = os.path.abspath(os.path.join(file_path, '..', '..', 'utils_py'))\n",
    "sys.path.append(utils_path)\n",
    "import utils_all as utils\n",
    "\n",
    "# Feature importance\n",
    "pfi_path = os.path.abspath(os.path.join(file_path, '..', 'pfi'))\n",
    "sys.path.append(pfi_path)\n",
    "import pfi\n",
    "import pfi_utils\n",
    "\n",
    "import warnings\n",
    "warnings.filterwarnings('ignore')\n",
    "\n",
    "SEED=0"
   ]
  },
  {
   "cell_type": "code",
   "execution_count": 2,
   "metadata": {},
   "outputs": [],
   "source": [
    "OUTDIR = os.path.join(file_path, 'data')\n",
    "utils.make_dir(OUTDIR)"
   ]
  },
  {
   "cell_type": "code",
   "execution_count": 3,
   "metadata": {},
   "outputs": [
    {
     "name": "stdout",
     "output_type": "stream",
     "text": [
      "(3000, 60485)\n",
      "(1000, 60485)\n",
      "60485\n",
      "60485\n"
     ]
    }
   ],
   "source": [
    "datapath = '/vol/ml/apartin/Benchmarks/Data/Pilot1/'\n",
    "\n",
    "data_train_org = pd.read_csv(os.path.join(datapath, 'P1B1.dev.train.csv'), sep=',')\n",
    "print(data_train_org.shape)\n",
    "\n",
    "data_val_org = pd.read_csv(os.path.join(datapath, 'P1B1.dev.test.csv'), sep=',')\n",
    "print(data_val_org.shape)\n",
    "\n",
    "print(len(set(data_train_org.columns)))\n",
    "print(len(set(data_val_org.columns)))"
   ]
  },
  {
   "cell_type": "code",
   "execution_count": 4,
   "metadata": {},
   "outputs": [
    {
     "name": "stdout",
     "output_type": "stream",
     "text": [
      "(978, 5)\n"
     ]
    }
   ],
   "source": [
    "mm = pd.read_csv(os.path.join(datapath, 'lincs1000.tsv'), sep='\\t')\n",
    "print(mm.shape)"
   ]
  },
  {
   "cell_type": "code",
   "execution_count": 5,
   "metadata": {},
   "outputs": [
    {
     "name": "stdout",
     "output_type": "stream",
     "text": [
      "(3000, 980)\n",
      "(1000, 980)\n",
      "980\n",
      "980\n"
     ]
    }
   ],
   "source": [
    "data_train = data_train_org[['case_id', 'cancer_type'] + mm['gdc'].tolist()]  # Extract lincs from the whole dataset\n",
    "data_val   = data_val_org[['case_id', 'cancer_type'] + mm['gdc'].tolist()]  # Extract lincs from the whole dataset\n",
    "print(data_train.shape)\n",
    "print(data_val.shape)\n",
    "print(len(set(data_train.columns)))\n",
    "print(len(set(data_val.columns)))"
   ]
  },
  {
   "cell_type": "code",
   "execution_count": null,
   "metadata": {},
   "outputs": [],
   "source": []
  },
  {
   "cell_type": "markdown",
   "metadata": {},
   "source": [
    "### <font color=red>'Problem with mapping (not unique) - start'</font> \n",
    "'PIK3R3' appears 3 times.\n",
    "This actually creates a lot of problems (duplicates columns)."
   ]
  },
  {
   "cell_type": "code",
   "execution_count": 6,
   "metadata": {},
   "outputs": [
    {
     "name": "stdout",
     "output_type": "stream",
     "text": [
      "978\n",
      "976\n"
     ]
    }
   ],
   "source": [
    "print(len(mm['gdc'].unique()))\n",
    "print(len(mm['symbol'].unique()))"
   ]
  },
  {
   "cell_type": "code",
   "execution_count": 7,
   "metadata": {},
   "outputs": [],
   "source": [
    "def find_duplicate_values_in_list(org_list):\n",
    "    # org_list = [20,30,20,30,40,50,15,11,20,40,50,15,6,7]\n",
    "    org_list.sort()\n",
    "    unq_list = sorted(set(org_list))\n",
    "    dup_list =[]\n",
    "    for i in range(len(unq_list)):\n",
    "        if (org_list.count(unq_list[i]) > 1):\n",
    "            dup_list.append(unq_list[i])\n",
    "    print(dup_list)"
   ]
  },
  {
   "cell_type": "code",
   "execution_count": 8,
   "metadata": {},
   "outputs": [
    {
     "name": "stdout",
     "output_type": "stream",
     "text": [
      "['PIK3R3']\n"
     ]
    }
   ],
   "source": [
    "find_duplicate_values_in_list(org_list=mm['symbol'].tolist())"
   ]
  },
  {
   "cell_type": "code",
   "execution_count": 9,
   "metadata": {},
   "outputs": [
    {
     "data": {
      "text/plain": [
       "3"
      ]
     },
     "execution_count": 9,
     "metadata": {},
     "output_type": "execute_result"
    }
   ],
   "source": [
    "sum(mm['symbol']=='PIK3R3')"
   ]
  },
  {
   "cell_type": "code",
   "execution_count": 10,
   "metadata": {},
   "outputs": [
    {
     "data": {
      "text/plain": [
       "978"
      ]
     },
     "execution_count": 10,
     "metadata": {},
     "output_type": "execute_result"
    }
   ],
   "source": [
    "# Map lincs gene names\n",
    "col_mapping = {mm.loc[g, 'gdc']: mm.loc[g, 'symbol'] for g in range(mm.shape[0])}\n",
    "data_train = data_train.rename(columns=col_mapping)\n",
    "data_val = data_val.rename(columns=col_mapping)\n",
    "len(set(data_train.columns))"
   ]
  },
  {
   "cell_type": "code",
   "execution_count": 11,
   "metadata": {},
   "outputs": [
    {
     "data": {
      "text/html": [
       "<div>\n",
       "<style scoped>\n",
       "    .dataframe tbody tr th:only-of-type {\n",
       "        vertical-align: middle;\n",
       "    }\n",
       "\n",
       "    .dataframe tbody tr th {\n",
       "        vertical-align: top;\n",
       "    }\n",
       "\n",
       "    .dataframe thead th {\n",
       "        text-align: right;\n",
       "    }\n",
       "</style>\n",
       "<table border=\"1\" class=\"dataframe\">\n",
       "  <thead>\n",
       "    <tr style=\"text-align: right;\">\n",
       "      <th></th>\n",
       "      <th>PIK3R3</th>\n",
       "      <th>PIK3R3</th>\n",
       "      <th>PIK3R3</th>\n",
       "    </tr>\n",
       "  </thead>\n",
       "  <tbody>\n",
       "    <tr>\n",
       "      <th>0</th>\n",
       "      <td>19.1</td>\n",
       "      <td>0.0</td>\n",
       "      <td>0.0</td>\n",
       "    </tr>\n",
       "    <tr>\n",
       "      <th>1</th>\n",
       "      <td>19.7</td>\n",
       "      <td>0.0</td>\n",
       "      <td>0.0</td>\n",
       "    </tr>\n",
       "    <tr>\n",
       "      <th>2</th>\n",
       "      <td>17.9</td>\n",
       "      <td>0.0</td>\n",
       "      <td>0.0</td>\n",
       "    </tr>\n",
       "  </tbody>\n",
       "</table>\n",
       "</div>"
      ],
      "text/plain": [
       "   PIK3R3  PIK3R3  PIK3R3\n",
       "0    19.1     0.0     0.0\n",
       "1    19.7     0.0     0.0\n",
       "2    17.9     0.0     0.0"
      ]
     },
     "execution_count": 11,
     "metadata": {},
     "output_type": "execute_result"
    }
   ],
   "source": [
    "data_train['PIK3R3'][:3]"
   ]
  },
  {
   "cell_type": "code",
   "execution_count": 12,
   "metadata": {},
   "outputs": [
    {
     "data": {
      "image/png": "[encoded data removed]",
      "text/plain": [
       "<Figure size 432x288 with 1 Axes>"
      ]
     },
     "metadata": {
      "needs_background": "light"
     },
     "output_type": "display_data"
    }
   ],
   "source": [
    "plt.plot(data_train['PIK3R3']);"
   ]
  },
  {
   "cell_type": "code",
   "execution_count": 13,
   "metadata": {},
   "outputs": [
    {
     "name": "stdout",
     "output_type": "stream",
     "text": [
      "(3000, 977)\n",
      "(1000, 977)\n"
     ]
    }
   ],
   "source": [
    "# Drop the duplicated col\n",
    "data_train.drop(columns=['PIK3R3'], inplace=True)\n",
    "data_val.drop(columns=['PIK3R3'], inplace=True)\n",
    "print(data_train.shape)\n",
    "print(data_val.shape)"
   ]
  },
  {
   "cell_type": "markdown",
   "metadata": {},
   "source": [
    "### <font color=red>'Problem with mapping (not unique) - end'</font>"
   ]
  },
  {
   "cell_type": "code",
   "execution_count": 14,
   "metadata": {},
   "outputs": [
    {
     "name": "stdout",
     "output_type": "stream",
     "text": [
      "(3000, 977)\n",
      "(1000, 977)\n",
      "(3000, 977)\n",
      "(1000, 977)\n"
     ]
    }
   ],
   "source": [
    "# Sort gene names\n",
    "print(data_train.shape)\n",
    "print(data_val.shape)\n",
    "\n",
    "sorted_gene_names = sorted(data_train.columns[2:].tolist())\n",
    "data_train = data_train[['case_id', 'cancer_type'] + sorted_gene_names]\n",
    "data_val = data_val[['case_id', 'cancer_type'] + sorted_gene_names]\n",
    "\n",
    "print(data_train.shape)\n",
    "print(data_val.shape)"
   ]
  },
  {
   "cell_type": "code",
   "execution_count": 15,
   "metadata": {},
   "outputs": [],
   "source": [
    "# Drop 'case_id'\n",
    "data_train.drop(columns='case_id', inplace=True)\n",
    "data_val.drop(columns='case_id', inplace=True)\n",
    "\n",
    "# Rename 'cancer_type' -> 'y'\n",
    "data_train.rename(columns={'cancer_type': 'y'}, inplace=True)\n",
    "data_val.rename(columns={'cancer_type': 'y'}, inplace=True)"
   ]
  },
  {
   "cell_type": "code",
   "execution_count": 16,
   "metadata": {},
   "outputs": [
    {
     "data": {
      "text/plain": [
       "Lung Squamous Cell Carcinoma             300\n",
       "Skin Cutaneous Melanoma                  300\n",
       "Others                                   300\n",
       "Uterine Corpus Endometrial Carcinoma     300\n",
       "Head and Neck Squamous Cell Carcinoma    300\n",
       "Lung Adenocarcinoma                      300\n",
       "Thyroid Carcinoma                        300\n",
       "Brain Lower Grade Glioma                 300\n",
       "Prostate Adenocarcinoma                  300\n",
       "Breast Invasive Carcinoma                300\n",
       "Name: y, dtype: int64"
      ]
     },
     "execution_count": 16,
     "metadata": {},
     "output_type": "execute_result"
    }
   ],
   "source": [
    "data_train['y'].value_counts()"
   ]
  },
  {
   "cell_type": "code",
   "execution_count": 17,
   "metadata": {},
   "outputs": [
    {
     "data": {
      "text/plain": [
       "Head and Neck Squamous Cell Carcinoma    100\n",
       "Brain Lower Grade Glioma                 100\n",
       "Lung Squamous Cell Carcinoma             100\n",
       "Prostate Adenocarcinoma                  100\n",
       "Skin Cutaneous Melanoma                  100\n",
       "Lung Adenocarcinoma                      100\n",
       "Others                                   100\n",
       "Breast Invasive Carcinoma                100\n",
       "Uterine Corpus Endometrial Carcinoma     100\n",
       "Thyroid Carcinoma                        100\n",
       "Name: y, dtype: int64"
      ]
     },
     "execution_count": 17,
     "metadata": {},
     "output_type": "execute_result"
    }
   ],
   "source": [
    "data_val['y'].value_counts()"
   ]
  },
  {
   "cell_type": "code",
   "execution_count": 18,
   "metadata": {},
   "outputs": [],
   "source": [
    "# Rename cancer type names (shorter names)\n",
    "map_cancer_names = {\n",
    "    'Brain Lower Grade Glioma': 'Brain [LGG]',\n",
    "    'Breast Invasive Carcinoma': 'Breast [BRCA]',\n",
    "    'Head and Neck Squamous Cell Carcinoma': 'Head&Neck [HNSC]',\n",
    "    'Lung Adenocarcinoma': 'Lung [LUAD]',\n",
    "    'Lung Squamous Cell Carcinoma': 'Lung [LUSC]',\n",
    "    'Others': 'Others',\n",
    "    'Prostate Adenocarcinoma': 'Prostate [PRAD]',\n",
    "    'Skin Cutaneous Melanoma': 'Skin [SKCM]',\n",
    "    'Thyroid Carcinoma': 'Thyroid [THCA]',\n",
    "    'Uterine Corpus Endometrial Carcinoma': 'Uterine [UCEC]'}\n",
    "\n",
    "data_train['y'] = data_train['y'].map(lambda s: map_cancer_names[s])\n",
    "data_val['y'] = data_val['y'].map(lambda s: map_cancer_names[s])"
   ]
  },
  {
   "cell_type": "code",
   "execution_count": 19,
   "metadata": {},
   "outputs": [
    {
     "data": {
      "text/plain": [
       "Breast [BRCA]       300\n",
       "Skin [SKCM]         300\n",
       "Head&Neck [HNSC]    300\n",
       "Others              300\n",
       "Thyroid [THCA]      300\n",
       "Brain [LGG]         300\n",
       "Uterine [UCEC]      300\n",
       "Lung [LUAD]         300\n",
       "Prostate [PRAD]     300\n",
       "Lung [LUSC]         300\n",
       "Name: y, dtype: int64"
      ]
     },
     "execution_count": 19,
     "metadata": {},
     "output_type": "execute_result"
    }
   ],
   "source": [
    "data_train['y'].value_counts()"
   ]
  },
  {
   "cell_type": "code",
   "execution_count": 20,
   "metadata": {},
   "outputs": [
    {
     "data": {
      "text/plain": [
       "Breast [BRCA]       100\n",
       "Skin [SKCM]         100\n",
       "Uterine [UCEC]      100\n",
       "Lung [LUAD]         100\n",
       "Lung [LUSC]         100\n",
       "Head&Neck [HNSC]    100\n",
       "Others              100\n",
       "Prostate [PRAD]     100\n",
       "Thyroid [THCA]      100\n",
       "Brain [LGG]         100\n",
       "Name: y, dtype: int64"
      ]
     },
     "execution_count": 20,
     "metadata": {},
     "output_type": "execute_result"
    }
   ],
   "source": [
    "data_val['y'].value_counts()"
   ]
  },
  {
   "cell_type": "code",
   "execution_count": 21,
   "metadata": {},
   "outputs": [],
   "source": [
    "y_train = data_train['y'].values\n",
    "y_val = data_val['y'].values\n",
    "y_enc = LabelEncoder()"
   ]
  },
  {
   "cell_type": "code",
   "execution_count": 22,
   "metadata": {},
   "outputs": [],
   "source": [
    "y_train = y_enc.fit_transform(y_train)\n",
    "y_val = y_enc.transform(y_val)"
   ]
  },
  {
   "cell_type": "code",
   "execution_count": 23,
   "metadata": {},
   "outputs": [],
   "source": [
    "data_train['y'] = y_train\n",
    "data_val['y'] = y_val"
   ]
  },
  {
   "cell_type": "code",
   "execution_count": 24,
   "metadata": {},
   "outputs": [],
   "source": [
    "# y_encoded = pd.DataFrame(data={'label': np.arange(0, len(y_enc.classes_)), 'type': y_enc.classes_})\n",
    "# y_encoded.to_csv(os.path.join(OUTDIR, 'P1B1.y.enc.ap'), sep='\\t', index=False)\n",
    "y_encoded = pd.DataFrame(data={'code': np.arange(0, len(y_enc.classes_)), 'label': y_enc.classes_})\n",
    "y_encoded.to_csv(os.path.join(OUTDIR, 'P1B1.y.enc.ap'), sep='\\t', index=False)"
   ]
  },
  {
   "cell_type": "code",
   "execution_count": 25,
   "metadata": {},
   "outputs": [
    {
     "data": {
      "text/html": [
       "<div>\n",
       "<style scoped>\n",
       "    .dataframe tbody tr th:only-of-type {\n",
       "        vertical-align: middle;\n",
       "    }\n",
       "\n",
       "    .dataframe tbody tr th {\n",
       "        vertical-align: top;\n",
       "    }\n",
       "\n",
       "    .dataframe thead th {\n",
       "        text-align: right;\n",
       "    }\n",
       "</style>\n",
       "<table border=\"1\" class=\"dataframe\">\n",
       "  <thead>\n",
       "    <tr style=\"text-align: right;\">\n",
       "      <th></th>\n",
       "      <th>code</th>\n",
       "      <th>label</th>\n",
       "    </tr>\n",
       "  </thead>\n",
       "  <tbody>\n",
       "    <tr>\n",
       "      <th>0</th>\n",
       "      <td>0</td>\n",
       "      <td>Brain [LGG]</td>\n",
       "    </tr>\n",
       "    <tr>\n",
       "      <th>1</th>\n",
       "      <td>1</td>\n",
       "      <td>Breast [BRCA]</td>\n",
       "    </tr>\n",
       "    <tr>\n",
       "      <th>2</th>\n",
       "      <td>2</td>\n",
       "      <td>Head&amp;Neck [HNSC]</td>\n",
       "    </tr>\n",
       "    <tr>\n",
       "      <th>3</th>\n",
       "      <td>3</td>\n",
       "      <td>Lung [LUAD]</td>\n",
       "    </tr>\n",
       "    <tr>\n",
       "      <th>4</th>\n",
       "      <td>4</td>\n",
       "      <td>Lung [LUSC]</td>\n",
       "    </tr>\n",
       "    <tr>\n",
       "      <th>5</th>\n",
       "      <td>5</td>\n",
       "      <td>Others</td>\n",
       "    </tr>\n",
       "    <tr>\n",
       "      <th>6</th>\n",
       "      <td>6</td>\n",
       "      <td>Prostate [PRAD]</td>\n",
       "    </tr>\n",
       "    <tr>\n",
       "      <th>7</th>\n",
       "      <td>7</td>\n",
       "      <td>Skin [SKCM]</td>\n",
       "    </tr>\n",
       "    <tr>\n",
       "      <th>8</th>\n",
       "      <td>8</td>\n",
       "      <td>Thyroid [THCA]</td>\n",
       "    </tr>\n",
       "    <tr>\n",
       "      <th>9</th>\n",
       "      <td>9</td>\n",
       "      <td>Uterine [UCEC]</td>\n",
       "    </tr>\n",
       "  </tbody>\n",
       "</table>\n",
       "</div>"
      ],
      "text/plain": [
       "   code             label\n",
       "0     0       Brain [LGG]\n",
       "1     1     Breast [BRCA]\n",
       "2     2  Head&Neck [HNSC]\n",
       "3     3       Lung [LUAD]\n",
       "4     4       Lung [LUSC]\n",
       "5     5            Others\n",
       "6     6   Prostate [PRAD]\n",
       "7     7       Skin [SKCM]\n",
       "8     8    Thyroid [THCA]\n",
       "9     9    Uterine [UCEC]"
      ]
     },
     "execution_count": 25,
     "metadata": {},
     "output_type": "execute_result"
    }
   ],
   "source": [
    "y_encoded"
   ]
  },
  {
   "cell_type": "code",
   "execution_count": 26,
   "metadata": {},
   "outputs": [],
   "source": [
    "# Shuffle the training values\n",
    "data_train = data_train.sample(n=data_train.shape[0], axis=0, replace=False, random_state=SEED).reset_index(drop=True)"
   ]
  },
  {
   "cell_type": "code",
   "execution_count": 27,
   "metadata": {},
   "outputs": [
    {
     "data": {
      "image/png": "[encoded data removed]",
      "text/plain": [
       "<Figure size 432x288 with 1 Axes>"
      ]
     },
     "metadata": {
      "needs_background": "light"
     },
     "output_type": "display_data"
    }
   ],
   "source": [
    "# Sort the val values by the target label\n",
    "data_val = data_val.sort_values('y', ascending=True).reset_index(drop=True)\n",
    "plt.plot(data_val['y'], '.');"
   ]
  },
  {
   "cell_type": "code",
   "execution_count": 28,
   "metadata": {},
   "outputs": [],
   "source": [
    "# data_train.to_csv(os.path.join(file_path, 'data', 'P1B1.dev.train.lincs.csv'), index=False)\n",
    "# data_val.to_csv(os.path.join(file_path, 'data', 'P1B1.dev.test.lincs.csv'), index=False)\n",
    "data_train.to_csv(os.path.join(OUTDIR, 'P1B1.dev.train.lincs.ap'), sep='\\t', index=False)\n",
    "data_val.to_csv(os.path.join(OUTDIR, 'P1B1.dev.test.lincs.ap'), sep='\\t', index=False)"
   ]
  },
  {
   "cell_type": "code",
   "execution_count": null,
   "metadata": {},
   "outputs": [],
   "source": []
  }
 ],
 "metadata": {
  "kernelspec": {
   "display_name": "Python 3",
   "language": "python",
   "name": "python3"
  },
  "language_info": {
   "codemirror_mode": {
    "name": "ipython",
    "version": 3
   },
   "file_extension": ".py",
   "mimetype": "text/x-python",
   "name": "python",
   "nbconvert_exporter": "python",
   "pygments_lexer": "ipython3",
   "version": "3.6.6"
  }
 },
 "nbformat": 4,
 "nbformat_minor": 2
}
