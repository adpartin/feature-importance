{
 "cells": [
  {
   "cell_type": "code",
   "execution_count": 1,
   "metadata": {},
   "outputs": [
    {
     "name": "stderr",
     "output_type": "stream",
     "text": [
      "Using TensorFlow backend.\n"
     ]
    }
   ],
   "source": [
    "# %load_ext autoreload\n",
    "%reload_ext autoreload\n",
    "%autoreload 2\n",
    "%matplotlib inline\n",
    "\n",
    "import os\n",
    "import sys\n",
    "import time\n",
    "import pdb\n",
    "import numpy as np\n",
    "import pandas as pd\n",
    "import matplotlib.pyplot as plt\n",
    "import seaborn as sns\n",
    "\n",
    "import networkx as nx\n",
    "\n",
    "from sklearn.preprocessing import LabelEncoder, StandardScaler\n",
    "from sklearn.metrics import f1_score, accuracy_score\n",
    "from sklearn.ensemble import RandomForestClassifier, ExtraTreesClassifier\n",
    "from sklearn.model_selection import train_test_split\n",
    "\n",
    "# Clustering\n",
    "from sklearn.datasets import make_biclusters, make_checkerboard, make_classification\n",
    "from sklearn.datasets import samples_generator as sg\n",
    "from sklearn.cluster.bicluster import SpectralCoclustering, SpectralBiclustering\n",
    "from sklearn.metrics import consensus_score\n",
    "\n",
    "# Corr\n",
    "from scipy.stats import spearmanr, pearsonr\n",
    "from numpy import corrcoef\n",
    "\n",
    "# Utils\n",
    "file_path = os.getcwd()  # os.path.dirname(os.path.relpath(__file__))\n",
    "utils_path = os.path.abspath(os.path.join(file_path, '..', '..', 'utils_py'))\n",
    "sys.path.append(utils_path)\n",
    "import utils_all as utils\n",
    "\n",
    "# Feature importance\n",
    "pfi_path = os.path.abspath(os.path.join(file_path, '..', 'pfi'))\n",
    "sys.path.append(pfi_path)\n",
    "import pfi\n",
    "import pfi_utils\n",
    "\n",
    "import warnings\n",
    "warnings.filterwarnings('ignore')\n",
    "\n",
    "SEED=0"
   ]
  },
  {
   "cell_type": "code",
   "execution_count": 2,
   "metadata": {},
   "outputs": [
    {
     "name": "stdout",
     "output_type": "stream",
     "text": [
      "/vol/ml/apartin/projects/feature-importance/tests\n"
     ]
    }
   ],
   "source": [
    "print(file_path)\n",
    "# DATAPATH_CLASSIFICATION = os.path.join(file_path, 'data', 'data_classification')\n",
    "DATAPATH_CLASSIFICATION_TRAIN = os.path.join(file_path, 'data', 'data_classification_train')\n",
    "DATAPATH_CLASSIFICATION_VAL = os.path.join(file_path, 'data', 'data_classification_val')"
   ]
  },
  {
   "cell_type": "code",
   "execution_count": 3,
   "metadata": {},
   "outputs": [],
   "source": [
    "data_train = pd.read_csv(DATAPATH_CLASSIFICATION_TRAIN, sep='\\t')\n",
    "data_val   = pd.read_csv(DATAPATH_CLASSIFICATION_VAL, sep='\\t')"
   ]
  },
  {
   "cell_type": "code",
   "execution_count": 4,
   "metadata": {},
   "outputs": [
    {
     "name": "stdout",
     "output_type": "stream",
     "text": [
      "data_train.shape (1600, 11)\n",
      "data_val.shape   (400, 11)\n",
      "data_train:\n",
      "    y       A       B        C\n",
      "0  2 -0.0278  1.2290 -0.10925\n",
      "1  2 -0.1952  1.0060  1.14000\n",
      "2  2 -1.1470  0.7837 -0.17100\n",
      "data_val:\n",
      "    y       A        B       C\n",
      "0  2 -1.1860  1.15100  1.1800\n",
      "1  2  1.3130  0.87300  0.9995\n",
      "2  0  0.2737 -0.09406 -0.9517\n"
     ]
    }
   ],
   "source": [
    "print('data_train.shape', data_train.shape)\n",
    "print('data_val.shape  ', data_val.shape)\n",
    "print('data_train:\\n', data_train.iloc[:3, :4])\n",
    "print('data_val:\\n', data_val.iloc[:3, :4])"
   ]
  },
  {
   "cell_type": "code",
   "execution_count": 5,
   "metadata": {},
   "outputs": [],
   "source": [
    "xtr = data_train.iloc[:, 1:].copy()\n",
    "ytr = data_train.iloc[:, 0].copy()\n",
    "xvl = data_val.iloc[:, 1:].copy()\n",
    "yvl = data_val.iloc[:, 0].copy()\n",
    "features = xtr.columns"
   ]
  },
  {
   "cell_type": "code",
   "execution_count": 6,
   "metadata": {},
   "outputs": [
    {
     "name": "stdout",
     "output_type": "stream",
     "text": [
      "Prediction score (mean accuracy): 0.8550\n"
     ]
    }
   ],
   "source": [
    "rf_model = RandomForestClassifier(n_estimators=200, max_features='sqrt', random_state=SEED)\n",
    "rf_model.fit(xtr, ytr);\n",
    "print(f'Prediction score (mean accuracy): {rf_model.score(xvl, yvl):.4f}')"
   ]
  },
  {
   "cell_type": "code",
   "execution_count": 7,
   "metadata": {},
   "outputs": [
    {
     "name": "stdout",
     "output_type": "stream",
     "text": [
      "true [2 2 0 1 2 1 1 0 2 1]\n",
      "pred [2 2 0 0 2 1 1 0 2 1]\n",
      "f1_score micro: 0.855\n",
      "f1_score macro: 0.856\n"
     ]
    }
   ],
   "source": [
    "yvl_pred = rf_model.predict(xvl)\n",
    "print('true', yvl[:10].values)\n",
    "print('pred', yvl_pred[:10])\n",
    "print('f1_score micro: {:.3f}'.format(f1_score(y_true=yvl, y_pred=yvl_pred, average='micro')))\n",
    "print('f1_score macro: {:.3f}'.format(f1_score(y_true=yvl, y_pred=yvl_pred, average='macro')))"
   ]
  },
  {
   "cell_type": "code",
   "execution_count": 8,
   "metadata": {},
   "outputs": [
    {
     "name": "stdout",
     "output_type": "stream",
     "text": [
      "true [2 2 0 1 2]\n",
      "yvl_pred_p:\n",
      " [[0.025 0.01  0.965]\n",
      " [0.015 0.295 0.69 ]\n",
      " [0.67  0.1   0.23 ]\n",
      " [0.74  0.185 0.075]\n",
      " [0.035 0.01  0.955]]\n"
     ]
    }
   ],
   "source": [
    "yvl_pred_p = rf_model.predict_proba(xvl)\n",
    "print('true', yvl[:5].values)\n",
    "print('yvl_pred_p:\\n', yvl_pred_p[:5])"
   ]
  },
  {
   "cell_type": "code",
   "execution_count": 9,
   "metadata": {},
   "outputs": [],
   "source": [
    "# cls = 2\n",
    "# idx = yvl.values == cls\n",
    "# # y_true_cls = yvl[idx]\n",
    "# yvl_pred_p_cls = yvl_pred_p[idx,:]\n",
    "# yvl_pred_p_cls[:, cls].mean()"
   ]
  },
  {
   "cell_type": "code",
   "execution_count": 10,
   "metadata": {},
   "outputs": [
    {
     "name": "stdout",
     "output_type": "stream",
     "text": [
      "{0: 0.7214179104477612, 1: 0.7711654135338346, 2: 0.6684586466165413}\n"
     ]
    }
   ],
   "source": [
    "yvl_pred_p = rf_model.predict_proba(xvl)\n",
    "dd = {}\n",
    "for cl in np.unique(yvl.values):\n",
    "    idx = yvl.values == cl\n",
    "    # y_true_cl = yvl[idx]\n",
    "    yvl_pred_p_cl = yvl_pred_p[idx,:]\n",
    "    dd[cl] = yvl_pred_p_cl[:, cl].mean()  \n",
    "\n",
    "print(dd)"
   ]
  },
  {
   "cell_type": "code",
   "execution_count": null,
   "metadata": {},
   "outputs": [],
   "source": []
  },
  {
   "cell_type": "code",
   "execution_count": 11,
   "metadata": {},
   "outputs": [
    {
     "data": {
      "text/html": [
       "<div>\n",
       "<style scoped>\n",
       "    .dataframe tbody tr th:only-of-type {\n",
       "        vertical-align: middle;\n",
       "    }\n",
       "\n",
       "    .dataframe tbody tr th {\n",
       "        vertical-align: top;\n",
       "    }\n",
       "\n",
       "    .dataframe thead th {\n",
       "        text-align: right;\n",
       "    }\n",
       "</style>\n",
       "<table border=\"1\" class=\"dataframe\">\n",
       "  <thead>\n",
       "    <tr style=\"text-align: right;\">\n",
       "      <th></th>\n",
       "      <th>col_id</th>\n",
       "      <th>cols</th>\n",
       "      <th>imp</th>\n",
       "      <th>std</th>\n",
       "    </tr>\n",
       "  </thead>\n",
       "  <tbody>\n",
       "    <tr>\n",
       "      <th>0</th>\n",
       "      <td>0</td>\n",
       "      <td>A</td>\n",
       "      <td>0.253943</td>\n",
       "      <td>0.045792</td>\n",
       "    </tr>\n",
       "    <tr>\n",
       "      <th>1</th>\n",
       "      <td>1</td>\n",
       "      <td>B</td>\n",
       "      <td>0.184775</td>\n",
       "      <td>0.028447</td>\n",
       "    </tr>\n",
       "    <tr>\n",
       "      <th>2</th>\n",
       "      <td>3</td>\n",
       "      <td>D</td>\n",
       "      <td>0.141283</td>\n",
       "      <td>0.022411</td>\n",
       "    </tr>\n",
       "    <tr>\n",
       "      <th>3</th>\n",
       "      <td>2</td>\n",
       "      <td>C</td>\n",
       "      <td>0.123776</td>\n",
       "      <td>0.027885</td>\n",
       "    </tr>\n",
       "    <tr>\n",
       "      <th>4</th>\n",
       "      <td>4</td>\n",
       "      <td>E</td>\n",
       "      <td>0.112916</td>\n",
       "      <td>0.023265</td>\n",
       "    </tr>\n",
       "    <tr>\n",
       "      <th>5</th>\n",
       "      <td>9</td>\n",
       "      <td>J</td>\n",
       "      <td>0.038107</td>\n",
       "      <td>0.010319</td>\n",
       "    </tr>\n",
       "    <tr>\n",
       "      <th>6</th>\n",
       "      <td>5</td>\n",
       "      <td>F</td>\n",
       "      <td>0.037376</td>\n",
       "      <td>0.011281</td>\n",
       "    </tr>\n",
       "    <tr>\n",
       "      <th>7</th>\n",
       "      <td>8</td>\n",
       "      <td>I</td>\n",
       "      <td>0.037072</td>\n",
       "      <td>0.010546</td>\n",
       "    </tr>\n",
       "    <tr>\n",
       "      <th>8</th>\n",
       "      <td>6</td>\n",
       "      <td>G</td>\n",
       "      <td>0.035575</td>\n",
       "      <td>0.010019</td>\n",
       "    </tr>\n",
       "    <tr>\n",
       "      <th>9</th>\n",
       "      <td>7</td>\n",
       "      <td>H</td>\n",
       "      <td>0.035177</td>\n",
       "      <td>0.010157</td>\n",
       "    </tr>\n",
       "  </tbody>\n",
       "</table>\n",
       "</div>"
      ],
      "text/plain": [
       "   col_id cols       imp       std\n",
       "0       0    A  0.253943  0.045792\n",
       "1       1    B  0.184775  0.028447\n",
       "2       3    D  0.141283  0.022411\n",
       "3       2    C  0.123776  0.027885\n",
       "4       4    E  0.112916  0.023265\n",
       "5       9    J  0.038107  0.010319\n",
       "6       5    F  0.037376  0.011281\n",
       "7       8    I  0.037072  0.010546\n",
       "8       6    G  0.035575  0.010019\n",
       "9       7    H  0.035177  0.010157"
      ]
     },
     "execution_count": 11,
     "metadata": {},
     "output_type": "execute_result"
    }
   ],
   "source": [
    "utils.get_rf_fi(rf_model=rf_model, columns=xtr.columns)"
   ]
  },
  {
   "cell_type": "code",
   "execution_count": null,
   "metadata": {},
   "outputs": [],
   "source": []
  },
  {
   "cell_type": "code",
   "execution_count": 15,
   "metadata": {},
   "outputs": [
    {
     "name": "stdout",
     "output_type": "stream",
     "text": [
      "Corr matrix after removing features shape:  (0, 0)\n",
      "Time to compute cliques:  0.00 min\n"
     ]
    }
   ],
   "source": [
    "fi_obj = pfi.PFI(model=rf_model, xdata=xvl, ydata=yvl, n_shuffles=20)\n",
    "fi_obj.gen_col_sets(th=1.0, toplot=False)\n",
    "fi_obj.compute_pfi(ml_type='c', verbose=False)"
   ]
  },
  {
   "cell_type": "code",
   "execution_count": 16,
   "metadata": {},
   "outputs": [
    {
     "data": {
      "text/html": [
       "<div>\n",
       "<style scoped>\n",
       "    .dataframe tbody tr th:only-of-type {\n",
       "        vertical-align: middle;\n",
       "    }\n",
       "\n",
       "    .dataframe tbody tr th {\n",
       "        vertical-align: top;\n",
       "    }\n",
       "\n",
       "    .dataframe thead th {\n",
       "        text-align: right;\n",
       "    }\n",
       "</style>\n",
       "<table border=\"1\" class=\"dataframe\">\n",
       "  <thead>\n",
       "    <tr style=\"text-align: right;\">\n",
       "      <th></th>\n",
       "      <th>cols</th>\n",
       "      <th>n</th>\n",
       "      <th>imp</th>\n",
       "    </tr>\n",
       "  </thead>\n",
       "  <tbody>\n",
       "    <tr>\n",
       "      <th>0</th>\n",
       "      <td>B</td>\n",
       "      <td>1</td>\n",
       "      <td>0.230627</td>\n",
       "    </tr>\n",
       "    <tr>\n",
       "      <th>1</th>\n",
       "      <td>A</td>\n",
       "      <td>1</td>\n",
       "      <td>0.203947</td>\n",
       "    </tr>\n",
       "    <tr>\n",
       "      <th>2</th>\n",
       "      <td>E</td>\n",
       "      <td>1</td>\n",
       "      <td>0.168469</td>\n",
       "    </tr>\n",
       "    <tr>\n",
       "      <th>3</th>\n",
       "      <td>D</td>\n",
       "      <td>1</td>\n",
       "      <td>0.167059</td>\n",
       "    </tr>\n",
       "    <tr>\n",
       "      <th>4</th>\n",
       "      <td>C</td>\n",
       "      <td>1</td>\n",
       "      <td>0.124086</td>\n",
       "    </tr>\n",
       "    <tr>\n",
       "      <th>5</th>\n",
       "      <td>I</td>\n",
       "      <td>1</td>\n",
       "      <td>0.022515</td>\n",
       "    </tr>\n",
       "    <tr>\n",
       "      <th>6</th>\n",
       "      <td>H</td>\n",
       "      <td>1</td>\n",
       "      <td>0.0221905</td>\n",
       "    </tr>\n",
       "    <tr>\n",
       "      <th>7</th>\n",
       "      <td>F</td>\n",
       "      <td>1</td>\n",
       "      <td>0.0218279</td>\n",
       "    </tr>\n",
       "    <tr>\n",
       "      <th>8</th>\n",
       "      <td>J</td>\n",
       "      <td>1</td>\n",
       "      <td>0.0210342</td>\n",
       "    </tr>\n",
       "    <tr>\n",
       "      <th>9</th>\n",
       "      <td>G</td>\n",
       "      <td>1</td>\n",
       "      <td>0.0182447</td>\n",
       "    </tr>\n",
       "  </tbody>\n",
       "</table>\n",
       "</div>"
      ],
      "text/plain": [
       "  cols  n        imp\n",
       "0    B  1   0.230627\n",
       "1    A  1   0.203947\n",
       "2    E  1   0.168469\n",
       "3    D  1   0.167059\n",
       "4    C  1   0.124086\n",
       "5    I  1   0.022515\n",
       "6    H  1  0.0221905\n",
       "7    F  1  0.0218279\n",
       "8    J  1  0.0210342\n",
       "9    G  1  0.0182447"
      ]
     },
     "execution_count": 16,
     "metadata": {},
     "output_type": "execute_result"
    }
   ],
   "source": [
    "fi_obj.fi_var"
   ]
  },
  {
   "cell_type": "code",
   "execution_count": 18,
   "metadata": {},
   "outputs": [
    {
     "data": {
      "text/html": [
       "<div>\n",
       "<style scoped>\n",
       "    .dataframe tbody tr th:only-of-type {\n",
       "        vertical-align: middle;\n",
       "    }\n",
       "\n",
       "    .dataframe tbody tr th {\n",
       "        vertical-align: top;\n",
       "    }\n",
       "\n",
       "    .dataframe thead th {\n",
       "        text-align: right;\n",
       "    }\n",
       "</style>\n",
       "<table border=\"1\" class=\"dataframe\">\n",
       "  <thead>\n",
       "    <tr style=\"text-align: right;\">\n",
       "      <th></th>\n",
       "      <th>imp_c0</th>\n",
       "      <th>imp_c1</th>\n",
       "      <th>imp_c2</th>\n",
       "    </tr>\n",
       "    <tr>\n",
       "      <th>cols</th>\n",
       "      <th></th>\n",
       "      <th></th>\n",
       "      <th></th>\n",
       "    </tr>\n",
       "  </thead>\n",
       "  <tbody>\n",
       "    <tr>\n",
       "      <th>A</th>\n",
       "      <td>0.188937</td>\n",
       "      <td>0.243453</td>\n",
       "      <td>0.0554718</td>\n",
       "    </tr>\n",
       "    <tr>\n",
       "      <th>B</th>\n",
       "      <td>0.0833862</td>\n",
       "      <td>0.130727</td>\n",
       "      <td>0.193968</td>\n",
       "    </tr>\n",
       "    <tr>\n",
       "      <th>C</th>\n",
       "      <td>0.108134</td>\n",
       "      <td>0.0597124</td>\n",
       "      <td>0.0864793</td>\n",
       "    </tr>\n",
       "    <tr>\n",
       "      <th>D</th>\n",
       "      <td>0.0913545</td>\n",
       "      <td>0.113526</td>\n",
       "      <td>0.104352</td>\n",
       "    </tr>\n",
       "    <tr>\n",
       "      <th>E</th>\n",
       "      <td>0.138336</td>\n",
       "      <td>0.041953</td>\n",
       "      <td>0.0831805</td>\n",
       "    </tr>\n",
       "    <tr>\n",
       "      <th>F</th>\n",
       "      <td>-0.00184515</td>\n",
       "      <td>-0.00178759</td>\n",
       "      <td>-0.00075</td>\n",
       "    </tr>\n",
       "    <tr>\n",
       "      <th>G</th>\n",
       "      <td>0.00155597</td>\n",
       "      <td>0.00166541</td>\n",
       "      <td>-0.00398684</td>\n",
       "    </tr>\n",
       "    <tr>\n",
       "      <th>H</th>\n",
       "      <td>0.00318657</td>\n",
       "      <td>-0.00024812</td>\n",
       "      <td>-0.00310526</td>\n",
       "    </tr>\n",
       "    <tr>\n",
       "      <th>I</th>\n",
       "      <td>-0.000287313</td>\n",
       "      <td>0.00133459</td>\n",
       "      <td>-0.00025188</td>\n",
       "    </tr>\n",
       "    <tr>\n",
       "      <th>J</th>\n",
       "      <td>-0.000501866</td>\n",
       "      <td>0.00241353</td>\n",
       "      <td>0.000118421</td>\n",
       "    </tr>\n",
       "  </tbody>\n",
       "</table>\n",
       "</div>"
      ],
      "text/plain": [
       "           imp_c0      imp_c1       imp_c2\n",
       "cols                                      \n",
       "A        0.188937    0.243453    0.0554718\n",
       "B       0.0833862    0.130727     0.193968\n",
       "C        0.108134   0.0597124    0.0864793\n",
       "D       0.0913545    0.113526     0.104352\n",
       "E        0.138336    0.041953    0.0831805\n",
       "F     -0.00184515 -0.00178759     -0.00075\n",
       "G      0.00155597  0.00166541  -0.00398684\n",
       "H      0.00318657 -0.00024812  -0.00310526\n",
       "I    -0.000287313  0.00133459  -0.00025188\n",
       "J    -0.000501866  0.00241353  0.000118421"
      ]
     },
     "execution_count": 18,
     "metadata": {},
     "output_type": "execute_result"
    }
   ],
   "source": [
    "# fi_obj.fi_p.iloc[:, 2:]\n",
    "mat = fi_obj.fi_score_p.sort_values('cols').reset_index(drop=True)\n",
    "mat = mat.set_index('cols')\n",
    "mat = mat.drop(columns=['n'])\n",
    "mat\n",
    "# pd.DataFrame(fi_obj.fi_p.iloc[:, 2:], index=fi_obj.fi_p['cols'])"
   ]
  },
  {
   "cell_type": "code",
   "execution_count": 20,
   "metadata": {},
   "outputs": [
    {
     "data": {
      "image/png": "[encoded data removed]",
      "text/plain": [
       "<Figure size 576x360 with 2 Axes>"
      ]
     },
     "metadata": {
      "needs_background": "light"
     },
     "output_type": "display_data"
    }
   ],
   "source": [
    "fi_obj.plot_score_fi_p();"
   ]
  },
  {
   "cell_type": "code",
   "execution_count": 21,
   "metadata": {
    "scrolled": true
   },
   "outputs": [
    {
     "data": {
      "image/png": "[encoded data removed]",
      "text/plain": [
       "<Figure size 960x288 with 2 Axes>"
      ]
     },
     "metadata": {
      "needs_background": "light"
     },
     "output_type": "display_data"
    }
   ],
   "source": [
    "plt.matshow(np.array(mat.values, dtype=float).T)\n",
    "plt.xlabel('cols')\n",
    "plt.ylabel('class')\n",
    "plt.colorbar();"
   ]
  },
  {
   "cell_type": "code",
   "execution_count": 22,
   "metadata": {},
   "outputs": [],
   "source": [
    "mat_to_plot = pd.DataFrame(np.array(mat.values, dtype=float).T,\n",
    "                           columns=mat.index,\n",
    "                           index=mat.columns,\n",
    "                           dtype=float)"
   ]
  },
  {
   "cell_type": "code",
   "execution_count": 23,
   "metadata": {},
   "outputs": [
    {
     "data": {
      "text/plain": [
       "Text(0.5,15,'Feature')"
      ]
     },
     "execution_count": 23,
     "metadata": {},
     "output_type": "execute_result"
    },
    {
     "data": {
      "image/png": "[encoded data removed]",
      "text/plain": [
       "<Figure size 1152x288 with 2 Axes>"
      ]
     },
     "metadata": {
      "needs_background": "light"
     },
     "output_type": "display_data"
    }
   ],
   "source": [
    "fig, ax = plt.subplots(figsize=(16, 4))\n",
    "sns.heatmap(mat_to_plot,\n",
    "            annot=True, fmt='.2f', linewidths=0.9,\n",
    "            linecolor='white',  cmap='coolwarm')\n",
    "ax.set_ylabel('Class', fontsize=12)\n",
    "ax.set_xlabel('Feature', fontsize=12)"
   ]
  },
  {
   "cell_type": "code",
   "execution_count": 39,
   "metadata": {},
   "outputs": [],
   "source": [
    "# fi_obj.fi_p.sort_values('imp_cls0', ascending=False)"
   ]
  },
  {
   "cell_type": "code",
   "execution_count": 38,
   "metadata": {},
   "outputs": [],
   "source": [
    "# fi_obj.fi_p.sort_values('imp_cls1', ascending=False)"
   ]
  },
  {
   "cell_type": "code",
   "execution_count": 37,
   "metadata": {},
   "outputs": [],
   "source": [
    "# fi_obj.fi_p.sort_values('imp_cls2', ascending=False)"
   ]
  },
  {
   "cell_type": "code",
   "execution_count": null,
   "metadata": {},
   "outputs": [],
   "source": []
  }
 ],
 "metadata": {
  "kernelspec": {
   "display_name": "Python 3",
   "language": "python",
   "name": "python3"
  },
  "language_info": {
   "codemirror_mode": {
    "name": "ipython",
    "version": 3
   },
   "file_extension": ".py",
   "mimetype": "text/x-python",
   "name": "python",
   "nbconvert_exporter": "python",
   "pygments_lexer": "ipython3",
   "version": "3.6.6"
  }
 },
 "nbformat": 4,
 "nbformat_minor": 2
}
